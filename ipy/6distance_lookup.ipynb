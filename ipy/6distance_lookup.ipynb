{
 "cells": [
  {
   "cell_type": "code",
   "execution_count": 7,
   "metadata": {
    "collapsed": false
   },
   "outputs": [],
   "source": [
    "import pandas as pd\n",
    "import numpy as np\n",
    "%matplotlib inline"
   ]
  },
  {
   "cell_type": "code",
   "execution_count": 8,
   "metadata": {
    "collapsed": false
   },
   "outputs": [],
   "source": [
    "df = pd.read_csv(\"../HA_data/distances/esp_similarity/crystals_esp_sim.csv\")"
   ]
  },
  {
   "cell_type": "code",
   "execution_count": 9,
   "metadata": {
    "collapsed": false
   },
   "outputs": [
    {
     "data": {
      "text/html": [
       "<div style=\"max-height:1000px;max-width:1500px;overflow:auto;\">\n",
       "<table border=\"1\" class=\"dataframe\">\n",
       "  <thead>\n",
       "    <tr style=\"text-align: right;\">\n",
       "      <th></th>\n",
       "      <th>p_id</th>\n",
       "      <th>p_id2</th>\n",
       "      <th>distance</th>\n",
       "    </tr>\n",
       "  </thead>\n",
       "  <tbody>\n",
       "    <tr>\n",
       "      <th>0</th>\n",
       "      <td> 1eo8_chA</td>\n",
       "      <td> 1eo8_chA</td>\n",
       "      <td> 0.000</td>\n",
       "    </tr>\n",
       "    <tr>\n",
       "      <th>1</th>\n",
       "      <td> 1ha0_chA</td>\n",
       "      <td> 1eo8_chA</td>\n",
       "      <td> 0.077</td>\n",
       "    </tr>\n",
       "    <tr>\n",
       "      <th>2</th>\n",
       "      <td> 1ha0_chA</td>\n",
       "      <td> 1ha0_chA</td>\n",
       "      <td> 0.000</td>\n",
       "    </tr>\n",
       "    <tr>\n",
       "      <th>3</th>\n",
       "      <td> 1hgd_chA</td>\n",
       "      <td> 1eo8_chA</td>\n",
       "      <td> 0.126</td>\n",
       "    </tr>\n",
       "    <tr>\n",
       "      <th>4</th>\n",
       "      <td> 1hgd_chA</td>\n",
       "      <td> 1ha0_chA</td>\n",
       "      <td> 0.063</td>\n",
       "    </tr>\n",
       "  </tbody>\n",
       "</table>\n",
       "</div>"
      ],
      "text/plain": [
       "       p_id     p_id2  distance\n",
       "0  1eo8_chA  1eo8_chA     0.000\n",
       "1  1ha0_chA  1eo8_chA     0.077\n",
       "2  1ha0_chA  1ha0_chA     0.000\n",
       "3  1hgd_chA  1eo8_chA     0.126\n",
       "4  1hgd_chA  1ha0_chA     0.063"
      ]
     },
     "execution_count": 9,
     "metadata": {},
     "output_type": "execute_result"
    }
   ],
   "source": [
    "df.head()"
   ]
  },
  {
   "cell_type": "code",
   "execution_count": 10,
   "metadata": {
    "collapsed": false
   },
   "outputs": [
    {
     "data": {
      "text/plain": [
       "<matplotlib.axes._subplots.AxesSubplot at 0x106c89ad0>"
      ]
     },
     "execution_count": 10,
     "metadata": {},
     "output_type": "execute_result"
    },
    {
     "data": {
      "image/png": "[encoded data removed]",
      "text/plain": [
       "<matplotlib.figure.Figure at 0x106c75110>"
      ]
     },
     "metadata": {},
     "output_type": "display_data"
    }
   ],
   "source": [
    "df.distance.hist()"
   ]
  },
  {
   "cell_type": "code",
   "execution_count": 11,
   "metadata": {
    "collapsed": false
   },
   "outputs": [
    {
     "data": {
      "text/plain": [
       "<matplotlib.axes._subplots.AxesSubplot at 0x10732d5d0>"
      ]
     },
     "execution_count": 11,
     "metadata": {},
     "output_type": "execute_result"
    },
    {
     "data": {
      "image/png": "[encoded data removed]",
      "text/plain": [
       "<matplotlib.figure.Figure at 0x107350c90>"
      ]
     },
     "metadata": {},
     "output_type": "display_data"
    }
   ],
   "source": [
    "np.sqrt(df.distance).hist()"
   ]
  },
  {
   "cell_type": "code",
   "execution_count": 16,
   "metadata": {
    "collapsed": true
   },
   "outputs": [],
   "source": [
    "df = pd.read_csv(\"../HA_data/distances/sequence_similarity/crystals_seq_sim.csv\")"
   ]
  },
  {
   "cell_type": "code",
   "execution_count": 17,
   "metadata": {
    "collapsed": false
   },
   "outputs": [
    {
     "data": {
      "text/plain": [
       "<matplotlib.axes._subplots.AxesSubplot at 0x107c8de10>"
      ]
     },
     "execution_count": 17,
     "metadata": {},
     "output_type": "execute_result"
    },
    {
     "data": {
      "image/png": "[encoded data removed]",
      "text/plain": [
       "<matplotlib.figure.Figure at 0x107c95e90>"
      ]
     },
     "metadata": {},
     "output_type": "display_data"
    }
   ],
   "source": [
    "df.distance.hist()"
   ]
  },
  {
   "cell_type": "code",
   "execution_count": 18,
   "metadata": {
    "collapsed": false
   },
   "outputs": [
    {
     "data": {
      "text/plain": [
       "<matplotlib.axes._subplots.AxesSubplot at 0x106933350>"
      ]
     },
     "execution_count": 18,
     "metadata": {},
     "output_type": "execute_result"
    },
    {
     "data": {
      "image/png": "[encoded data removed]",
      "text/plain": [
       "<matplotlib.figure.Figure at 0x10693e3d0>"
      ]
     },
     "metadata": {},
     "output_type": "display_data"
    }
   ],
   "source": [
    "np.log10(df.distance).hist()"
   ]
  },
  {
   "cell_type": "code",
   "execution_count": 29,
   "metadata": {
    "collapsed": true
   },
   "outputs": [],
   "source": [
    "df_less = df.rename(columns={\"rmsd\": \"value\"}).query(\"value < 1.5\")"
   ]
  },
  {
   "cell_type": "code",
   "execution_count": 31,
   "metadata": {
    "collapsed": false
   },
   "outputs": [],
   "source": [
    "df_less.to_csv(\"../site/data/distance_models_rmsd.csv\", index=False)"
   ]
  },
  {
   "cell_type": "code",
   "execution_count": 11,
   "metadata": {
    "collapsed": true
   },
   "outputs": [],
   "source": [
    "df2 = pd.read_csv(\"../HA_data/distances/crystals/crystals_RMSD_tab.csv\")  # , index_col=\"p_id\")"
   ]
  },
  {
   "cell_type": "code",
   "execution_count": 12,
   "metadata": {
    "collapsed": false
   },
   "outputs": [
    {
     "data": {
      "text/html": [
       "<div style=\"max-height:1000px;max-width:1500px;overflow:auto;\">\n",
       "<table border=\"1\" class=\"dataframe\">\n",
       "  <thead>\n",
       "    <tr style=\"text-align: right;\">\n",
       "      <th></th>\n",
       "      <th>p_id</th>\n",
       "      <th>1eo8</th>\n",
       "      <th>1ha0</th>\n",
       "      <th>1hgd</th>\n",
       "      <th>1hge</th>\n",
       "      <th>1hgf</th>\n",
       "      <th>1hgg</th>\n",
       "      <th>1hgh</th>\n",
       "      <th>1hgi</th>\n",
       "      <th>1hgj</th>\n",
       "      <th>...</th>\n",
       "      <th>4uo5</th>\n",
       "      <th>4uo6</th>\n",
       "      <th>4uo7</th>\n",
       "      <th>4uo8</th>\n",
       "      <th>4uo9</th>\n",
       "      <th>4uoa</th>\n",
       "      <th>4wa1</th>\n",
       "      <th>4wa2</th>\n",
       "      <th>5hmg</th>\n",
       "      <th>reference</th>\n",
       "    </tr>\n",
       "  </thead>\n",
       "  <tbody>\n",
       "    <tr>\n",
       "      <th>0</th>\n",
       "      <td> 1eo8</td>\n",
       "      <td> 0.00</td>\n",
       "      <td> 0.42</td>\n",
       "      <td> 0.32</td>\n",
       "      <td> 0.32</td>\n",
       "      <td> 0.33</td>\n",
       "      <td> 0.32</td>\n",
       "      <td> 0.33</td>\n",
       "      <td> 0.33</td>\n",
       "      <td> 0.33</td>\n",
       "      <td>...</td>\n",
       "      <td> 0.53</td>\n",
       "      <td> 0.55</td>\n",
       "      <td> 0.54</td>\n",
       "      <td> 0.56</td>\n",
       "      <td> 0.57</td>\n",
       "      <td> 0.54</td>\n",
       "      <td> 0.44</td>\n",
       "      <td> 0.44</td>\n",
       "      <td> 0.34</td>\n",
       "      <td> 1.83</td>\n",
       "    </tr>\n",
       "    <tr>\n",
       "      <th>1</th>\n",
       "      <td> 1ha0</td>\n",
       "      <td> 0.42</td>\n",
       "      <td> 0.00</td>\n",
       "      <td> 0.39</td>\n",
       "      <td> 0.40</td>\n",
       "      <td> 0.39</td>\n",
       "      <td> 0.40</td>\n",
       "      <td> 0.40</td>\n",
       "      <td> 0.40</td>\n",
       "      <td> 0.39</td>\n",
       "      <td>...</td>\n",
       "      <td> 0.61</td>\n",
       "      <td> 0.63</td>\n",
       "      <td> 0.64</td>\n",
       "      <td> 0.63</td>\n",
       "      <td> 0.65</td>\n",
       "      <td> 0.62</td>\n",
       "      <td> 0.52</td>\n",
       "      <td> 0.53</td>\n",
       "      <td> 0.40</td>\n",
       "      <td> 1.82</td>\n",
       "    </tr>\n",
       "    <tr>\n",
       "      <th>2</th>\n",
       "      <td> 1hgd</td>\n",
       "      <td> 0.32</td>\n",
       "      <td> 0.39</td>\n",
       "      <td> 0.00</td>\n",
       "      <td> 0.06</td>\n",
       "      <td> 0.13</td>\n",
       "      <td> 0.12</td>\n",
       "      <td> 0.12</td>\n",
       "      <td> 0.12</td>\n",
       "      <td> 0.08</td>\n",
       "      <td>...</td>\n",
       "      <td> 0.48</td>\n",
       "      <td> 0.51</td>\n",
       "      <td> 0.51</td>\n",
       "      <td> 0.51</td>\n",
       "      <td> 0.55</td>\n",
       "      <td> 0.52</td>\n",
       "      <td> 0.38</td>\n",
       "      <td> 0.40</td>\n",
       "      <td> 0.22</td>\n",
       "      <td> 1.78</td>\n",
       "    </tr>\n",
       "    <tr>\n",
       "      <th>3</th>\n",
       "      <td> 1hge</td>\n",
       "      <td> 0.32</td>\n",
       "      <td> 0.40</td>\n",
       "      <td> 0.06</td>\n",
       "      <td> 0.00</td>\n",
       "      <td> 0.13</td>\n",
       "      <td> 0.11</td>\n",
       "      <td> 0.10</td>\n",
       "      <td> 0.10</td>\n",
       "      <td> 0.09</td>\n",
       "      <td>...</td>\n",
       "      <td> 0.48</td>\n",
       "      <td> 0.50</td>\n",
       "      <td> 0.50</td>\n",
       "      <td> 0.51</td>\n",
       "      <td> 0.55</td>\n",
       "      <td> 0.53</td>\n",
       "      <td> 0.39</td>\n",
       "      <td> 0.40</td>\n",
       "      <td> 0.22</td>\n",
       "      <td> 1.79</td>\n",
       "    </tr>\n",
       "    <tr>\n",
       "      <th>4</th>\n",
       "      <td> 1hgf</td>\n",
       "      <td> 0.33</td>\n",
       "      <td> 0.39</td>\n",
       "      <td> 0.13</td>\n",
       "      <td> 0.13</td>\n",
       "      <td> 0.00</td>\n",
       "      <td> 0.14</td>\n",
       "      <td> 0.14</td>\n",
       "      <td> 0.14</td>\n",
       "      <td> 0.12</td>\n",
       "      <td>...</td>\n",
       "      <td> 0.48</td>\n",
       "      <td> 0.52</td>\n",
       "      <td> 0.51</td>\n",
       "      <td> 0.52</td>\n",
       "      <td> 0.56</td>\n",
       "      <td> 0.53</td>\n",
       "      <td> 0.40</td>\n",
       "      <td> 0.42</td>\n",
       "      <td> 0.22</td>\n",
       "      <td> 1.80</td>\n",
       "    </tr>\n",
       "  </tbody>\n",
       "</table>\n",
       "<p>5 rows × 254 columns</p>\n",
       "</div>"
      ],
      "text/plain": [
       "   p_id  1eo8  1ha0  1hgd  1hge  1hgf  1hgg  1hgh  1hgi  1hgj    ...      \\\n",
       "0  1eo8  0.00  0.42  0.32  0.32  0.33  0.32  0.33  0.33  0.33    ...       \n",
       "1  1ha0  0.42  0.00  0.39  0.40  0.39  0.40  0.40  0.40  0.39    ...       \n",
       "2  1hgd  0.32  0.39  0.00  0.06  0.13  0.12  0.12  0.12  0.08    ...       \n",
       "3  1hge  0.32  0.40  0.06  0.00  0.13  0.11  0.10  0.10  0.09    ...       \n",
       "4  1hgf  0.33  0.39  0.13  0.13  0.00  0.14  0.14  0.14  0.12    ...       \n",
       "\n",
       "   4uo5  4uo6  4uo7  4uo8  4uo9  4uoa  4wa1  4wa2  5hmg  reference  \n",
       "0  0.53  0.55  0.54  0.56  0.57  0.54  0.44  0.44  0.34       1.83  \n",
       "1  0.61  0.63  0.64  0.63  0.65  0.62  0.52  0.53  0.40       1.82  \n",
       "2  0.48  0.51  0.51  0.51  0.55  0.52  0.38  0.40  0.22       1.78  \n",
       "3  0.48  0.50  0.50  0.51  0.55  0.53  0.39  0.40  0.22       1.79  \n",
       "4  0.48  0.52  0.51  0.52  0.56  0.53  0.40  0.42  0.22       1.80  \n",
       "\n",
       "[5 rows x 254 columns]"
      ]
     },
     "execution_count": 12,
     "metadata": {},
     "output_type": "execute_result"
    }
   ],
   "source": [
    "df2.head()"
   ]
  },
  {
   "cell_type": "code",
   "execution_count": 24,
   "metadata": {
    "collapsed": false
   },
   "outputs": [],
   "source": [
    "crystals_melted = pd.melt(df2, id_vars=\"p_id\").rename(columns={\"variable\": \"p_id2\", \"value\": \"value\"}) \\\n",
    "  .query(\"p_id < p_id2\") \\\n",
    "  .query(\"p_id2 != 'reference'\")"
   ]
  },
  {
   "cell_type": "code",
   "execution_count": 25,
   "metadata": {
    "collapsed": false
   },
   "outputs": [
    {
     "data": {
      "text/html": [
       "<div style=\"max-height:1000px;max-width:1500px;overflow:auto;\">\n",
       "<table border=\"1\" class=\"dataframe\">\n",
       "  <thead>\n",
       "    <tr style=\"text-align: right;\">\n",
       "      <th></th>\n",
       "      <th>p_id</th>\n",
       "      <th>p_id2</th>\n",
       "      <th>value</th>\n",
       "    </tr>\n",
       "  </thead>\n",
       "  <tbody>\n",
       "    <tr>\n",
       "      <th>253  </th>\n",
       "      <td> 1eo8</td>\n",
       "      <td> 1ha0</td>\n",
       "      <td> 0.42</td>\n",
       "    </tr>\n",
       "    <tr>\n",
       "      <th>506  </th>\n",
       "      <td> 1eo8</td>\n",
       "      <td> 1hgd</td>\n",
       "      <td> 0.32</td>\n",
       "    </tr>\n",
       "    <tr>\n",
       "      <th>507  </th>\n",
       "      <td> 1ha0</td>\n",
       "      <td> 1hgd</td>\n",
       "      <td> 0.39</td>\n",
       "    </tr>\n",
       "    <tr>\n",
       "      <th>759  </th>\n",
       "      <td> 1eo8</td>\n",
       "      <td> 1hge</td>\n",
       "      <td> 0.32</td>\n",
       "    </tr>\n",
       "    <tr>\n",
       "      <th>760  </th>\n",
       "      <td> 1ha0</td>\n",
       "      <td> 1hge</td>\n",
       "      <td> 0.40</td>\n",
       "    </tr>\n",
       "    <tr>\n",
       "      <th>761  </th>\n",
       "      <td> 1hgd</td>\n",
       "      <td> 1hge</td>\n",
       "      <td> 0.06</td>\n",
       "    </tr>\n",
       "    <tr>\n",
       "      <th>1012 </th>\n",
       "      <td> 1eo8</td>\n",
       "      <td> 1hgf</td>\n",
       "      <td> 0.33</td>\n",
       "    </tr>\n",
       "    <tr>\n",
       "      <th>1013 </th>\n",
       "      <td> 1ha0</td>\n",
       "      <td> 1hgf</td>\n",
       "      <td> 0.39</td>\n",
       "    </tr>\n",
       "    <tr>\n",
       "      <th>1014 </th>\n",
       "      <td> 1hgd</td>\n",
       "      <td> 1hgf</td>\n",
       "      <td> 0.13</td>\n",
       "    </tr>\n",
       "    <tr>\n",
       "      <th>1015 </th>\n",
       "      <td> 1hge</td>\n",
       "      <td> 1hgf</td>\n",
       "      <td> 0.13</td>\n",
       "    </tr>\n",
       "    <tr>\n",
       "      <th>1265 </th>\n",
       "      <td> 1eo8</td>\n",
       "      <td> 1hgg</td>\n",
       "      <td> 0.32</td>\n",
       "    </tr>\n",
       "    <tr>\n",
       "      <th>1266 </th>\n",
       "      <td> 1ha0</td>\n",
       "      <td> 1hgg</td>\n",
       "      <td> 0.40</td>\n",
       "    </tr>\n",
       "    <tr>\n",
       "      <th>1267 </th>\n",
       "      <td> 1hgd</td>\n",
       "      <td> 1hgg</td>\n",
       "      <td> 0.12</td>\n",
       "    </tr>\n",
       "    <tr>\n",
       "      <th>1268 </th>\n",
       "      <td> 1hge</td>\n",
       "      <td> 1hgg</td>\n",
       "      <td> 0.11</td>\n",
       "    </tr>\n",
       "    <tr>\n",
       "      <th>1269 </th>\n",
       "      <td> 1hgf</td>\n",
       "      <td> 1hgg</td>\n",
       "      <td> 0.14</td>\n",
       "    </tr>\n",
       "    <tr>\n",
       "      <th>1518 </th>\n",
       "      <td> 1eo8</td>\n",
       "      <td> 1hgh</td>\n",
       "      <td> 0.33</td>\n",
       "    </tr>\n",
       "    <tr>\n",
       "      <th>1519 </th>\n",
       "      <td> 1ha0</td>\n",
       "      <td> 1hgh</td>\n",
       "      <td> 0.40</td>\n",
       "    </tr>\n",
       "    <tr>\n",
       "      <th>1520 </th>\n",
       "      <td> 1hgd</td>\n",
       "      <td> 1hgh</td>\n",
       "      <td> 0.12</td>\n",
       "    </tr>\n",
       "    <tr>\n",
       "      <th>1521 </th>\n",
       "      <td> 1hge</td>\n",
       "      <td> 1hgh</td>\n",
       "      <td> 0.10</td>\n",
       "    </tr>\n",
       "    <tr>\n",
       "      <th>1522 </th>\n",
       "      <td> 1hgf</td>\n",
       "      <td> 1hgh</td>\n",
       "      <td> 0.14</td>\n",
       "    </tr>\n",
       "    <tr>\n",
       "      <th>1523 </th>\n",
       "      <td> 1hgg</td>\n",
       "      <td> 1hgh</td>\n",
       "      <td> 0.11</td>\n",
       "    </tr>\n",
       "    <tr>\n",
       "      <th>1771 </th>\n",
       "      <td> 1eo8</td>\n",
       "      <td> 1hgi</td>\n",
       "      <td> 0.33</td>\n",
       "    </tr>\n",
       "    <tr>\n",
       "      <th>1772 </th>\n",
       "      <td> 1ha0</td>\n",
       "      <td> 1hgi</td>\n",
       "      <td> 0.40</td>\n",
       "    </tr>\n",
       "    <tr>\n",
       "      <th>1773 </th>\n",
       "      <td> 1hgd</td>\n",
       "      <td> 1hgi</td>\n",
       "      <td> 0.12</td>\n",
       "    </tr>\n",
       "    <tr>\n",
       "      <th>1774 </th>\n",
       "      <td> 1hge</td>\n",
       "      <td> 1hgi</td>\n",
       "      <td> 0.10</td>\n",
       "    </tr>\n",
       "    <tr>\n",
       "      <th>1775 </th>\n",
       "      <td> 1hgf</td>\n",
       "      <td> 1hgi</td>\n",
       "      <td> 0.14</td>\n",
       "    </tr>\n",
       "    <tr>\n",
       "      <th>1776 </th>\n",
       "      <td> 1hgg</td>\n",
       "      <td> 1hgi</td>\n",
       "      <td> 0.12</td>\n",
       "    </tr>\n",
       "    <tr>\n",
       "      <th>1777 </th>\n",
       "      <td> 1hgh</td>\n",
       "      <td> 1hgi</td>\n",
       "      <td> 0.09</td>\n",
       "    </tr>\n",
       "    <tr>\n",
       "      <th>2024 </th>\n",
       "      <td> 1eo8</td>\n",
       "      <td> 1hgj</td>\n",
       "      <td> 0.33</td>\n",
       "    </tr>\n",
       "    <tr>\n",
       "      <th>2025 </th>\n",
       "      <td> 1ha0</td>\n",
       "      <td> 1hgj</td>\n",
       "      <td> 0.39</td>\n",
       "    </tr>\n",
       "    <tr>\n",
       "      <th>...</th>\n",
       "      <td>...</td>\n",
       "      <td>...</td>\n",
       "      <td>...</td>\n",
       "    </tr>\n",
       "    <tr>\n",
       "      <th>63724</th>\n",
       "      <td> 4n62</td>\n",
       "      <td> 5hmg</td>\n",
       "      <td> 1.70</td>\n",
       "    </tr>\n",
       "    <tr>\n",
       "      <th>63725</th>\n",
       "      <td> 4n63</td>\n",
       "      <td> 5hmg</td>\n",
       "      <td> 1.69</td>\n",
       "    </tr>\n",
       "    <tr>\n",
       "      <th>63726</th>\n",
       "      <td> 4n64</td>\n",
       "      <td> 5hmg</td>\n",
       "      <td> 1.72</td>\n",
       "    </tr>\n",
       "    <tr>\n",
       "      <th>63727</th>\n",
       "      <td> 4nm8</td>\n",
       "      <td> 5hmg</td>\n",
       "      <td> 0.34</td>\n",
       "    </tr>\n",
       "    <tr>\n",
       "      <th>63728</th>\n",
       "      <td> 4nrj</td>\n",
       "      <td> 5hmg</td>\n",
       "      <td> 2.70</td>\n",
       "    </tr>\n",
       "    <tr>\n",
       "      <th>63729</th>\n",
       "      <td> 4nrk</td>\n",
       "      <td> 5hmg</td>\n",
       "      <td> 2.70</td>\n",
       "    </tr>\n",
       "    <tr>\n",
       "      <th>63730</th>\n",
       "      <td> 4nrl</td>\n",
       "      <td> 5hmg</td>\n",
       "      <td> 2.70</td>\n",
       "    </tr>\n",
       "    <tr>\n",
       "      <th>63731</th>\n",
       "      <td> 4o58</td>\n",
       "      <td> 5hmg</td>\n",
       "      <td> 0.43</td>\n",
       "    </tr>\n",
       "    <tr>\n",
       "      <th>63732</th>\n",
       "      <td> 4o5i</td>\n",
       "      <td> 5hmg</td>\n",
       "      <td> 0.56</td>\n",
       "    </tr>\n",
       "    <tr>\n",
       "      <th>63733</th>\n",
       "      <td> 4o5n</td>\n",
       "      <td> 5hmg</td>\n",
       "      <td> 0.54</td>\n",
       "    </tr>\n",
       "    <tr>\n",
       "      <th>63734</th>\n",
       "      <td> 4py8</td>\n",
       "      <td> 5hmg</td>\n",
       "      <td> 1.75</td>\n",
       "    </tr>\n",
       "    <tr>\n",
       "      <th>63735</th>\n",
       "      <td> 4qy0</td>\n",
       "      <td> 5hmg</td>\n",
       "      <td> 1.64</td>\n",
       "    </tr>\n",
       "    <tr>\n",
       "      <th>63736</th>\n",
       "      <td> 4qy1</td>\n",
       "      <td> 5hmg</td>\n",
       "      <td> 1.60</td>\n",
       "    </tr>\n",
       "    <tr>\n",
       "      <th>63737</th>\n",
       "      <td> 4qy2</td>\n",
       "      <td> 5hmg</td>\n",
       "      <td> 1.63</td>\n",
       "    </tr>\n",
       "    <tr>\n",
       "      <th>63738</th>\n",
       "      <td> 4unx</td>\n",
       "      <td> 5hmg</td>\n",
       "      <td> 0.54</td>\n",
       "    </tr>\n",
       "    <tr>\n",
       "      <th>63739</th>\n",
       "      <td> 4uny</td>\n",
       "      <td> 5hmg</td>\n",
       "      <td> 0.47</td>\n",
       "    </tr>\n",
       "    <tr>\n",
       "      <th>63740</th>\n",
       "      <td> 4unz</td>\n",
       "      <td> 5hmg</td>\n",
       "      <td> 0.48</td>\n",
       "    </tr>\n",
       "    <tr>\n",
       "      <th>63741</th>\n",
       "      <td> 4uo0</td>\n",
       "      <td> 5hmg</td>\n",
       "      <td> 0.46</td>\n",
       "    </tr>\n",
       "    <tr>\n",
       "      <th>63742</th>\n",
       "      <td> 4uo1</td>\n",
       "      <td> 5hmg</td>\n",
       "      <td> 0.57</td>\n",
       "    </tr>\n",
       "    <tr>\n",
       "      <th>63743</th>\n",
       "      <td> 4uo2</td>\n",
       "      <td> 5hmg</td>\n",
       "      <td> 0.50</td>\n",
       "    </tr>\n",
       "    <tr>\n",
       "      <th>63744</th>\n",
       "      <td> 4uo3</td>\n",
       "      <td> 5hmg</td>\n",
       "      <td> 0.44</td>\n",
       "    </tr>\n",
       "    <tr>\n",
       "      <th>63745</th>\n",
       "      <td> 4uo4</td>\n",
       "      <td> 5hmg</td>\n",
       "      <td> 0.51</td>\n",
       "    </tr>\n",
       "    <tr>\n",
       "      <th>63746</th>\n",
       "      <td> 4uo5</td>\n",
       "      <td> 5hmg</td>\n",
       "      <td> 0.52</td>\n",
       "    </tr>\n",
       "    <tr>\n",
       "      <th>63747</th>\n",
       "      <td> 4uo6</td>\n",
       "      <td> 5hmg</td>\n",
       "      <td> 0.55</td>\n",
       "    </tr>\n",
       "    <tr>\n",
       "      <th>63748</th>\n",
       "      <td> 4uo7</td>\n",
       "      <td> 5hmg</td>\n",
       "      <td> 0.54</td>\n",
       "    </tr>\n",
       "    <tr>\n",
       "      <th>63749</th>\n",
       "      <td> 4uo8</td>\n",
       "      <td> 5hmg</td>\n",
       "      <td> 0.56</td>\n",
       "    </tr>\n",
       "    <tr>\n",
       "      <th>63750</th>\n",
       "      <td> 4uo9</td>\n",
       "      <td> 5hmg</td>\n",
       "      <td> 0.58</td>\n",
       "    </tr>\n",
       "    <tr>\n",
       "      <th>63751</th>\n",
       "      <td> 4uoa</td>\n",
       "      <td> 5hmg</td>\n",
       "      <td> 0.56</td>\n",
       "    </tr>\n",
       "    <tr>\n",
       "      <th>63752</th>\n",
       "      <td> 4wa1</td>\n",
       "      <td> 5hmg</td>\n",
       "      <td> 0.43</td>\n",
       "    </tr>\n",
       "    <tr>\n",
       "      <th>63753</th>\n",
       "      <td> 4wa2</td>\n",
       "      <td> 5hmg</td>\n",
       "      <td> 0.46</td>\n",
       "    </tr>\n",
       "  </tbody>\n",
       "</table>\n",
       "<p>31626 rows × 3 columns</p>\n",
       "</div>"
      ],
      "text/plain": [
       "       p_id p_id2  value\n",
       "253    1eo8  1ha0   0.42\n",
       "506    1eo8  1hgd   0.32\n",
       "507    1ha0  1hgd   0.39\n",
       "759    1eo8  1hge   0.32\n",
       "760    1ha0  1hge   0.40\n",
       "761    1hgd  1hge   0.06\n",
       "1012   1eo8  1hgf   0.33\n",
       "1013   1ha0  1hgf   0.39\n",
       "1014   1hgd  1hgf   0.13\n",
       "1015   1hge  1hgf   0.13\n",
       "1265   1eo8  1hgg   0.32\n",
       "1266   1ha0  1hgg   0.40\n",
       "1267   1hgd  1hgg   0.12\n",
       "1268   1hge  1hgg   0.11\n",
       "1269   1hgf  1hgg   0.14\n",
       "1518   1eo8  1hgh   0.33\n",
       "1519   1ha0  1hgh   0.40\n",
       "1520   1hgd  1hgh   0.12\n",
       "1521   1hge  1hgh   0.10\n",
       "1522   1hgf  1hgh   0.14\n",
       "1523   1hgg  1hgh   0.11\n",
       "1771   1eo8  1hgi   0.33\n",
       "1772   1ha0  1hgi   0.40\n",
       "1773   1hgd  1hgi   0.12\n",
       "1774   1hge  1hgi   0.10\n",
       "1775   1hgf  1hgi   0.14\n",
       "1776   1hgg  1hgi   0.12\n",
       "1777   1hgh  1hgi   0.09\n",
       "2024   1eo8  1hgj   0.33\n",
       "2025   1ha0  1hgj   0.39\n",
       "...     ...   ...    ...\n",
       "63724  4n62  5hmg   1.70\n",
       "63725  4n63  5hmg   1.69\n",
       "63726  4n64  5hmg   1.72\n",
       "63727  4nm8  5hmg   0.34\n",
       "63728  4nrj  5hmg   2.70\n",
       "63729  4nrk  5hmg   2.70\n",
       "63730  4nrl  5hmg   2.70\n",
       "63731  4o58  5hmg   0.43\n",
       "63732  4o5i  5hmg   0.56\n",
       "63733  4o5n  5hmg   0.54\n",
       "63734  4py8  5hmg   1.75\n",
       "63735  4qy0  5hmg   1.64\n",
       "63736  4qy1  5hmg   1.60\n",
       "63737  4qy2  5hmg   1.63\n",
       "63738  4unx  5hmg   0.54\n",
       "63739  4uny  5hmg   0.47\n",
       "63740  4unz  5hmg   0.48\n",
       "63741  4uo0  5hmg   0.46\n",
       "63742  4uo1  5hmg   0.57\n",
       "63743  4uo2  5hmg   0.50\n",
       "63744  4uo3  5hmg   0.44\n",
       "63745  4uo4  5hmg   0.51\n",
       "63746  4uo5  5hmg   0.52\n",
       "63747  4uo6  5hmg   0.55\n",
       "63748  4uo7  5hmg   0.54\n",
       "63749  4uo8  5hmg   0.56\n",
       "63750  4uo9  5hmg   0.58\n",
       "63751  4uoa  5hmg   0.56\n",
       "63752  4wa1  5hmg   0.43\n",
       "63753  4wa2  5hmg   0.46\n",
       "\n",
       "[31626 rows x 3 columns]"
      ]
     },
     "execution_count": 25,
     "metadata": {},
     "output_type": "execute_result"
    }
   ],
   "source": [
    "crystals_melted"
   ]
  },
  {
   "cell_type": "code",
   "execution_count": 26,
   "metadata": {
    "collapsed": true
   },
   "outputs": [],
   "source": [
    "crystals_melted.to_csv(\"../site/data/distance_crystals_rmsd_full.csv\", index=False)"
   ]
  },
  {
   "cell_type": "code",
   "execution_count": 27,
   "metadata": {
    "collapsed": false
   },
   "outputs": [
    {
     "data": {
      "text/html": [
       "<div style=\"max-height:1000px;max-width:1500px;overflow:auto;\">\n",
       "<table border=\"1\" class=\"dataframe\">\n",
       "  <thead>\n",
       "    <tr style=\"text-align: right;\">\n",
       "      <th></th>\n",
       "      <th>p_id</th>\n",
       "      <th>p_id2</th>\n",
       "      <th>value</th>\n",
       "    </tr>\n",
       "  </thead>\n",
       "  <tbody>\n",
       "  </tbody>\n",
       "</table>\n",
       "</div>"
      ],
      "text/plain": [
       "Empty DataFrame\n",
       "Columns: [p_id, p_id2, value]\n",
       "Index: []"
      ]
     },
     "execution_count": 27,
     "metadata": {},
     "output_type": "execute_result"
    }
   ],
   "source": [
    "crystals_melted[pd.isnull(crystals_melted.value)]"
   ]
  },
  {
   "cell_type": "code",
   "execution_count": 28,
   "metadata": {
    "collapsed": false
   },
   "outputs": [
    {
     "data": {
      "text/plain": [
       "count    31626.000000\n",
       "mean         1.487474\n",
       "std          0.638520\n",
       "min          0.000000\n",
       "25%          1.190000\n",
       "50%          1.540000\n",
       "75%          1.750000\n",
       "max          3.660000\n",
       "Name: value, dtype: float64"
      ]
     },
     "execution_count": 28,
     "metadata": {},
     "output_type": "execute_result"
    }
   ],
   "source": [
    "crystals_melted.value.describe()"
   ]
  },
  {
   "cell_type": "code",
   "execution_count": null,
   "metadata": {
    "collapsed": true
   },
   "outputs": [],
   "source": []
  }
 ],
 "metadata": {
  "kernelspec": {
   "display_name": "Python 2",
   "language": "python",
   "name": "python2"
  },
  "language_info": {
   "codemirror_mode": {
    "name": "ipython",
    "version": 2
   },
   "file_extension": ".py",
   "mimetype": "text/x-python",
   "name": "python",
   "nbconvert_exporter": "python",
   "pygments_lexer": "ipython2",
   "version": "2.7.10"
  }
 },
 "nbformat": 4,
 "nbformat_minor": 0
}
