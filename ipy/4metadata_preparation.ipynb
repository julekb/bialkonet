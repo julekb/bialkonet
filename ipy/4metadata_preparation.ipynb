{
 "cells": [
  {
   "cell_type": "code",
   "execution_count": 1,
   "metadata": {
    "collapsed": true
   },
   "outputs": [],
   "source": [
    "import pandas as pd"
   ]
  },
  {
   "cell_type": "code",
   "execution_count": 65,
   "metadata": {
    "collapsed": false
   },
   "outputs": [],
   "source": [
    "c_met = pd.read_csv(\"../HA_data/metadata/crystals_metadata.csv\", index_col=0)\n",
    "c_seq = pd.read_csv(\"../HA_data/aligned_sequences/crystals_aln.csv\", index_col=0)\n",
    "\n",
    "# NOT the same\n",
    "# I needed to add header: id,chain,host,location,year\n",
    "m_met = pd.read_csv(\"../HA_data/metadata/models_metadata.csv\", index_col=0, na_values=[\"-\"])\n",
    "m_seq = pd.read_csv(\"../HA_data/aligned_sequences/models_aln.csv\", index_col=0)\n",
    "m_template = pd.read_csv(\"../HA_data/models_template_mapping.csv\", index_col=0)"
   ]
  },
  {
   "cell_type": "markdown",
   "metadata": {},
   "source": [
    "# Crystal data"
   ]
  },
  {
   "cell_type": "code",
   "execution_count": 8,
   "metadata": {
    "collapsed": false
   },
   "outputs": [
    {
     "data": {
      "text/html": [
       "<div>\n",
       "<table border=\"1\" class=\"dataframe\">\n",
       "  <thead>\n",
       "    <tr style=\"text-align: right;\">\n",
       "      <th></th>\n",
       "      <th>chain</th>\n",
       "      <th>subtype</th>\n",
       "      <th>host</th>\n",
       "      <th>location</th>\n",
       "      <th>year</th>\n",
       "    </tr>\n",
       "    <tr>\n",
       "      <th>id</th>\n",
       "      <th></th>\n",
       "      <th></th>\n",
       "      <th></th>\n",
       "      <th></th>\n",
       "      <th></th>\n",
       "    </tr>\n",
       "  </thead>\n",
       "  <tbody>\n",
       "    <tr>\n",
       "      <th>1ha0</th>\n",
       "      <td>A</td>\n",
       "      <td>H3N2</td>\n",
       "      <td>NaN</td>\n",
       "      <td>Aichi</td>\n",
       "      <td>1968</td>\n",
       "    </tr>\n",
       "    <tr>\n",
       "      <th>4eef</th>\n",
       "      <td>A</td>\n",
       "      <td>H1N1</td>\n",
       "      <td>NaN</td>\n",
       "      <td>BrevigMission</td>\n",
       "      <td>1918</td>\n",
       "    </tr>\n",
       "    <tr>\n",
       "      <th>4cqp</th>\n",
       "      <td>A</td>\n",
       "      <td>H5N1</td>\n",
       "      <td>NaN</td>\n",
       "      <td>Vietnam</td>\n",
       "      <td>2004</td>\n",
       "    </tr>\n",
       "    <tr>\n",
       "      <th>4cqq</th>\n",
       "      <td>A</td>\n",
       "      <td>H5N1</td>\n",
       "      <td>NaN</td>\n",
       "      <td>Vietnam</td>\n",
       "      <td>2004</td>\n",
       "    </tr>\n",
       "    <tr>\n",
       "      <th>4cqr</th>\n",
       "      <td>A</td>\n",
       "      <td>H5N1</td>\n",
       "      <td>NaN</td>\n",
       "      <td>Vietnam</td>\n",
       "      <td>2004</td>\n",
       "    </tr>\n",
       "  </tbody>\n",
       "</table>\n",
       "</div>"
      ],
      "text/plain": [
       "     chain subtype host       location  year\n",
       "id                                          \n",
       "1ha0     A    H3N2  NaN          Aichi  1968\n",
       "4eef     A    H1N1  NaN  BrevigMission  1918\n",
       "4cqp     A    H5N1  NaN        Vietnam  2004\n",
       "4cqq     A    H5N1  NaN        Vietnam  2004\n",
       "4cqr     A    H5N1  NaN        Vietnam  2004"
      ]
     },
     "execution_count": 8,
     "metadata": {},
     "output_type": "execute_result"
    }
   ],
   "source": [
    "c_met.head()"
   ]
  },
  {
   "cell_type": "code",
   "execution_count": 18,
   "metadata": {
    "collapsed": false
   },
   "outputs": [
    {
     "data": {
      "text/plain": [
       "['H3N2']"
      ]
     },
     "execution_count": 18,
     "metadata": {},
     "output_type": "execute_result"
    }
   ],
   "source": [
    "\"H3N2\".split(\"\\w\")"
   ]
  },
  {
   "cell_type": "code",
   "execution_count": 20,
   "metadata": {
    "collapsed": false
   },
   "outputs": [
    {
     "data": {
      "text/plain": [
       "48"
      ]
     },
     "execution_count": 20,
     "metadata": {},
     "output_type": "execute_result"
    }
   ],
   "source": [
    "len(c_met.location.value_counts())"
   ]
  },
  {
   "cell_type": "code",
   "execution_count": 21,
   "metadata": {
    "collapsed": false
   },
   "outputs": [
    {
     "data": {
      "text/plain": [
       "avian                     50\n",
       "canine                     7\n",
       "equine                     7\n",
       "reassortant X31            6\n",
       "swine                      5\n",
       "harbor_seal                2\n",
       "bat                        2\n",
       "reassortant IDCDC_RG29     1\n",
       "dtype: int64"
      ]
     },
     "execution_count": 21,
     "metadata": {},
     "output_type": "execute_result"
    }
   ],
   "source": [
    "c_met.host.value_counts()"
   ]
  },
  {
   "cell_type": "code",
   "execution_count": 25,
   "metadata": {
    "collapsed": true
   },
   "outputs": [],
   "source": [
    "def clean_host(x):\n",
    "    if pd.isnull(x):\n",
    "        return \"human\"\n",
    "    elif x.find(\"reassortant\") > -1:\n",
    "        return \"reassortant\"\n",
    "    else:\n",
    "        return x.replace(\"_\", \" \")"
   ]
  },
  {
   "cell_type": "code",
   "execution_count": 26,
   "metadata": {
    "collapsed": true
   },
   "outputs": [],
   "source": [
    "c_met.host = c_met.host.apply(clean_host)"
   ]
  },
  {
   "cell_type": "code",
   "execution_count": 31,
   "metadata": {
    "collapsed": false
   },
   "outputs": [],
   "source": [
    "c_met[\"H\"] = c_met.subtype.apply(lambda x: int(x.split(\"N\")[0][1:]))\n",
    "c_met[\"N\"] = c_met.subtype.apply(lambda x: int(x.split(\"N\")[1]))"
   ]
  },
  {
   "cell_type": "code",
   "execution_count": 32,
   "metadata": {
    "collapsed": false
   },
   "outputs": [
    {
     "data": {
      "text/html": [
       "<div>\n",
       "<table border=\"1\" class=\"dataframe\">\n",
       "  <thead>\n",
       "    <tr style=\"text-align: right;\">\n",
       "      <th></th>\n",
       "      <th>sequence</th>\n",
       "    </tr>\n",
       "    <tr>\n",
       "      <th>id</th>\n",
       "      <th></th>\n",
       "    </tr>\n",
       "  </thead>\n",
       "  <tbody>\n",
       "    <tr>\n",
       "      <th>1eo8</th>\n",
       "      <td>TATLCLGHHAVPNGTLVKTITDDQIEVTNATELVQSSSTGKICN-N...</td>\n",
       "    </tr>\n",
       "    <tr>\n",
       "      <th>1ha0</th>\n",
       "      <td>TATLCLGHHAVPNGTLVKTITDDQIEVTNATELVQSSSTGKICN-N...</td>\n",
       "    </tr>\n",
       "    <tr>\n",
       "      <th>1hgf</th>\n",
       "      <td>TATLCLGHHAVPNGTLVKTITDDQIEVTNATELVQSSSTGKICN-N...</td>\n",
       "    </tr>\n",
       "    <tr>\n",
       "      <th>1hgg</th>\n",
       "      <td>TATLCLGHHAVPNGTLVKTITDDQIEVTNATELVQSSSTGKICN-N...</td>\n",
       "    </tr>\n",
       "    <tr>\n",
       "      <th>1hgh</th>\n",
       "      <td>TATLCLGHHAVPNGTLVKTITDDQIEVTNATELVQSSSTGKICN-N...</td>\n",
       "    </tr>\n",
       "  </tbody>\n",
       "</table>\n",
       "</div>"
      ],
      "text/plain": [
       "                                               sequence\n",
       "id                                                     \n",
       "1eo8  TATLCLGHHAVPNGTLVKTITDDQIEVTNATELVQSSSTGKICN-N...\n",
       "1ha0  TATLCLGHHAVPNGTLVKTITDDQIEVTNATELVQSSSTGKICN-N...\n",
       "1hgf  TATLCLGHHAVPNGTLVKTITDDQIEVTNATELVQSSSTGKICN-N...\n",
       "1hgg  TATLCLGHHAVPNGTLVKTITDDQIEVTNATELVQSSSTGKICN-N...\n",
       "1hgh  TATLCLGHHAVPNGTLVKTITDDQIEVTNATELVQSSSTGKICN-N..."
      ]
     },
     "execution_count": 32,
     "metadata": {},
     "output_type": "execute_result"
    }
   ],
   "source": [
    "c_seq.head()"
   ]
  },
  {
   "cell_type": "code",
   "execution_count": 33,
   "metadata": {
    "collapsed": false
   },
   "outputs": [
    {
     "data": {
      "text/plain": [
       "Index(['2rft', '2rfu', '2wr0', '2wr1', '2wr2', '2wr3', '2wr4', '2wr5', '2yp2',\n",
       "       '2yp3', '2yp4', '2yp5', '3bt6', '4fqj', '4fqk', '4fqm', '4kon', '4lcx',\n",
       "       '4lkg', '4lkh', '4lki', '4lkj', '4lkk', '4m40', '4m44', '4mc5', '4mhh',\n",
       "       '4nrj', '4nrk', '4nrl', '4qy0', '4qy1', '4qy2'],\n",
       "      dtype='object', name='id')"
      ]
     },
     "execution_count": 33,
     "metadata": {},
     "output_type": "execute_result"
    }
   ],
   "source": [
    "# sequence for other data missing (but not the other way)\n",
    "c_seq.index.difference(c_met.index)"
   ]
  },
  {
   "cell_type": "code",
   "execution_count": 35,
   "metadata": {
    "collapsed": false
   },
   "outputs": [],
   "source": [
    "c_all = c_met.join(c_seq, how=\"outer\")"
   ]
  },
  {
   "cell_type": "code",
   "execution_count": 76,
   "metadata": {
    "collapsed": false
   },
   "outputs": [
    {
     "data": {
      "text/html": [
       "<div>\n",
       "<table border=\"1\" class=\"dataframe\">\n",
       "  <thead>\n",
       "    <tr style=\"text-align: right;\">\n",
       "      <th></th>\n",
       "      <th>chain</th>\n",
       "      <th>subtype</th>\n",
       "      <th>host</th>\n",
       "      <th>location</th>\n",
       "      <th>year</th>\n",
       "      <th>H</th>\n",
       "      <th>N</th>\n",
       "      <th>sequence</th>\n",
       "    </tr>\n",
       "    <tr>\n",
       "      <th>id</th>\n",
       "      <th></th>\n",
       "      <th></th>\n",
       "      <th></th>\n",
       "      <th></th>\n",
       "      <th></th>\n",
       "      <th></th>\n",
       "      <th></th>\n",
       "      <th></th>\n",
       "    </tr>\n",
       "  </thead>\n",
       "  <tbody>\n",
       "    <tr>\n",
       "      <th>1eo8</th>\n",
       "      <td>A</td>\n",
       "      <td>H3N2</td>\n",
       "      <td>human</td>\n",
       "      <td>Aichi</td>\n",
       "      <td>1968</td>\n",
       "      <td>3</td>\n",
       "      <td>2</td>\n",
       "      <td>TATLCLGHHAVPNGTLVKTITDDQIEVTNATELVQSSSTGKICN-N...</td>\n",
       "    </tr>\n",
       "    <tr>\n",
       "      <th>1ha0</th>\n",
       "      <td>A</td>\n",
       "      <td>H3N2</td>\n",
       "      <td>human</td>\n",
       "      <td>Aichi</td>\n",
       "      <td>1968</td>\n",
       "      <td>3</td>\n",
       "      <td>2</td>\n",
       "      <td>TATLCLGHHAVPNGTLVKTITDDQIEVTNATELVQSSSTGKICN-N...</td>\n",
       "    </tr>\n",
       "    <tr>\n",
       "      <th>1hgd</th>\n",
       "      <td>A</td>\n",
       "      <td>H3N2</td>\n",
       "      <td>reassortant</td>\n",
       "      <td>NaN</td>\n",
       "      <td>NaN</td>\n",
       "      <td>3</td>\n",
       "      <td>2</td>\n",
       "      <td>TATLCLGHHAVPNGTLVKTITDDQIEVTNATELVQSSSTGKICN-N...</td>\n",
       "    </tr>\n",
       "    <tr>\n",
       "      <th>1hge</th>\n",
       "      <td>A</td>\n",
       "      <td>H3N2</td>\n",
       "      <td>reassortant</td>\n",
       "      <td>NaN</td>\n",
       "      <td>NaN</td>\n",
       "      <td>3</td>\n",
       "      <td>2</td>\n",
       "      <td>TATLCLGHHAVPNGTLVKTITDDQIEVTNATELVQSSSTGKICN-N...</td>\n",
       "    </tr>\n",
       "    <tr>\n",
       "      <th>1hgf</th>\n",
       "      <td>A</td>\n",
       "      <td>H3N2</td>\n",
       "      <td>reassortant</td>\n",
       "      <td>NaN</td>\n",
       "      <td>NaN</td>\n",
       "      <td>3</td>\n",
       "      <td>2</td>\n",
       "      <td>TATLCLGHHAVPNGTLVKTITDDQIEVTNATELVQSSSTGKICN-N...</td>\n",
       "    </tr>\n",
       "  </tbody>\n",
       "</table>\n",
       "</div>"
      ],
      "text/plain": [
       "     chain subtype         host location  year  H  N  \\\n",
       "id                                                     \n",
       "1eo8     A    H3N2        human    Aichi  1968  3  2   \n",
       "1ha0     A    H3N2        human    Aichi  1968  3  2   \n",
       "1hgd     A    H3N2  reassortant      NaN   NaN  3  2   \n",
       "1hge     A    H3N2  reassortant      NaN   NaN  3  2   \n",
       "1hgf     A    H3N2  reassortant      NaN   NaN  3  2   \n",
       "\n",
       "                                               sequence  \n",
       "id                                                       \n",
       "1eo8  TATLCLGHHAVPNGTLVKTITDDQIEVTNATELVQSSSTGKICN-N...  \n",
       "1ha0  TATLCLGHHAVPNGTLVKTITDDQIEVTNATELVQSSSTGKICN-N...  \n",
       "1hgd  TATLCLGHHAVPNGTLVKTITDDQIEVTNATELVQSSSTGKICN-N...  \n",
       "1hge  TATLCLGHHAVPNGTLVKTITDDQIEVTNATELVQSSSTGKICN-N...  \n",
       "1hgf  TATLCLGHHAVPNGTLVKTITDDQIEVTNATELVQSSSTGKICN-N...  "
      ]
     },
     "execution_count": 76,
     "metadata": {},
     "output_type": "execute_result"
    }
   ],
   "source": [
    "c_all.head()"
   ]
  },
  {
   "cell_type": "code",
   "execution_count": 38,
   "metadata": {
    "collapsed": true
   },
   "outputs": [],
   "source": [
    "c_all.to_csv(\"../site/data/crystals_metadata.csv\", float_format = '%.0f')  # for missing H/N"
   ]
  },
  {
   "cell_type": "markdown",
   "metadata": {},
   "source": [
    "## Model data"
   ]
  },
  {
   "cell_type": "code",
   "execution_count": 66,
   "metadata": {
    "collapsed": false
   },
   "outputs": [
    {
     "data": {
      "text/html": [
       "<div>\n",
       "<table border=\"1\" class=\"dataframe\">\n",
       "  <thead>\n",
       "    <tr style=\"text-align: right;\">\n",
       "      <th></th>\n",
       "      <th>chain</th>\n",
       "      <th>host</th>\n",
       "      <th>location</th>\n",
       "      <th>year</th>\n",
       "    </tr>\n",
       "    <tr>\n",
       "      <th>p_id</th>\n",
       "      <th></th>\n",
       "      <th></th>\n",
       "      <th></th>\n",
       "      <th></th>\n",
       "    </tr>\n",
       "  </thead>\n",
       "  <tbody>\n",
       "    <tr>\n",
       "      <th>AIB06038</th>\n",
       "      <td>A</td>\n",
       "      <td>swine</td>\n",
       "      <td>Nebraska</td>\n",
       "      <td>2014</td>\n",
       "    </tr>\n",
       "    <tr>\n",
       "      <th>ABW36333</th>\n",
       "      <td>A</td>\n",
       "      <td>swine</td>\n",
       "      <td>Ontario</td>\n",
       "      <td>1981</td>\n",
       "    </tr>\n",
       "    <tr>\n",
       "      <th>ADD23162</th>\n",
       "      <td>A</td>\n",
       "      <td>NaN</td>\n",
       "      <td>San Diego</td>\n",
       "      <td>2009</td>\n",
       "    </tr>\n",
       "    <tr>\n",
       "      <th>AAV80798</th>\n",
       "      <td>A</td>\n",
       "      <td>avian</td>\n",
       "      <td>Minnesota</td>\n",
       "      <td>2003</td>\n",
       "    </tr>\n",
       "    <tr>\n",
       "      <th>ABY40410</th>\n",
       "      <td>A</td>\n",
       "      <td>swine</td>\n",
       "      <td>Saraburi</td>\n",
       "      <td>2005</td>\n",
       "    </tr>\n",
       "  </tbody>\n",
       "</table>\n",
       "</div>"
      ],
      "text/plain": [
       "         chain   host   location  year\n",
       "p_id                                  \n",
       "AIB06038     A  swine   Nebraska  2014\n",
       "ABW36333     A  swine    Ontario  1981\n",
       "ADD23162     A    NaN  San Diego  2009\n",
       "AAV80798     A  avian  Minnesota  2003\n",
       "ABY40410     A  swine   Saraburi  2005"
      ]
     },
     "execution_count": 66,
     "metadata": {},
     "output_type": "execute_result"
    }
   ],
   "source": [
    "m_met.head()"
   ]
  },
  {
   "cell_type": "code",
   "execution_count": 67,
   "metadata": {
    "collapsed": false
   },
   "outputs": [
    {
     "data": {
      "text/plain": [
       "swine             482\n",
       "avian             316\n",
       "emu                 2\n",
       "ferret              1\n",
       "rhea                1\n",
       "giant anteater      1\n",
       "dtype: int64"
      ]
     },
     "execution_count": 67,
     "metadata": {},
     "output_type": "execute_result"
    }
   ],
   "source": [
    "m_met.host.value_counts()"
   ]
  },
  {
   "cell_type": "code",
   "execution_count": 68,
   "metadata": {
    "collapsed": false
   },
   "outputs": [],
   "source": [
    "m_met.host = m_met.host.fillna(\"human\")"
   ]
  },
  {
   "cell_type": "code",
   "execution_count": 69,
   "metadata": {
    "collapsed": false
   },
   "outputs": [
    {
     "data": {
      "text/plain": [
       "323"
      ]
     },
     "execution_count": 69,
     "metadata": {},
     "output_type": "execute_result"
    }
   ],
   "source": [
    "len(m_met.location.value_counts())"
   ]
  },
  {
   "cell_type": "code",
   "execution_count": 70,
   "metadata": {
    "collapsed": false
   },
   "outputs": [
    {
     "data": {
      "text/html": [
       "<div>\n",
       "<table border=\"1\" class=\"dataframe\">\n",
       "  <thead>\n",
       "    <tr style=\"text-align: right;\">\n",
       "      <th></th>\n",
       "      <th>sequence</th>\n",
       "    </tr>\n",
       "    <tr>\n",
       "      <th>id</th>\n",
       "      <th></th>\n",
       "    </tr>\n",
       "  </thead>\n",
       "  <tbody>\n",
       "    <tr>\n",
       "      <th>AAA43090</th>\n",
       "      <td>GDQICIGYHAN-STEKVDTILERNVTVTHAKDILEK--THNGKLCK...</td>\n",
       "    </tr>\n",
       "    <tr>\n",
       "      <th>AAA43247</th>\n",
       "      <td>GDQICIGYHAN-STEKVDTILERNVTVTHAKDILEK--THNGKLCK...</td>\n",
       "    </tr>\n",
       "    <tr>\n",
       "      <th>ABO38701</th>\n",
       "      <td>GDQICIGYHAN-STEKVDTILERNVTVTHAKDILEK--THNGKLCK...</td>\n",
       "    </tr>\n",
       "    <tr>\n",
       "      <th>ABO44057</th>\n",
       "      <td>GDQICIGYHAN-STEKVDTILERNVTVTHAKDILEK--THNGKLCK...</td>\n",
       "    </tr>\n",
       "    <tr>\n",
       "      <th>ABO52247</th>\n",
       "      <td>GDQICIGYHAN-STEKVDTILERNVTVTHAKDILEK--THNGKLCK...</td>\n",
       "    </tr>\n",
       "  </tbody>\n",
       "</table>\n",
       "</div>"
      ],
      "text/plain": [
       "                                                   sequence\n",
       "id                                                         \n",
       "AAA43090  GDQICIGYHAN-STEKVDTILERNVTVTHAKDILEK--THNGKLCK...\n",
       "AAA43247  GDQICIGYHAN-STEKVDTILERNVTVTHAKDILEK--THNGKLCK...\n",
       "ABO38701  GDQICIGYHAN-STEKVDTILERNVTVTHAKDILEK--THNGKLCK...\n",
       "ABO44057  GDQICIGYHAN-STEKVDTILERNVTVTHAKDILEK--THNGKLCK...\n",
       "ABO52247  GDQICIGYHAN-STEKVDTILERNVTVTHAKDILEK--THNGKLCK..."
      ]
     },
     "execution_count": 70,
     "metadata": {},
     "output_type": "execute_result"
    }
   ],
   "source": [
    "m_seq.head()"
   ]
  },
  {
   "cell_type": "code",
   "execution_count": 71,
   "metadata": {
    "collapsed": false
   },
   "outputs": [
    {
     "data": {
      "text/html": [
       "<div>\n",
       "<table border=\"1\" class=\"dataframe\">\n",
       "  <thead>\n",
       "    <tr style=\"text-align: right;\">\n",
       "      <th></th>\n",
       "      <th>template_id</th>\n",
       "    </tr>\n",
       "    <tr>\n",
       "      <th>p_id</th>\n",
       "      <th></th>\n",
       "    </tr>\n",
       "  </thead>\n",
       "  <tbody>\n",
       "    <tr>\n",
       "      <th>AAA43578</th>\n",
       "      <td>2wr5</td>\n",
       "    </tr>\n",
       "    <tr>\n",
       "      <th>AEK49568</th>\n",
       "      <td>4wsw</td>\n",
       "    </tr>\n",
       "    <tr>\n",
       "      <th>AGL58994</th>\n",
       "      <td>4wsw</td>\n",
       "    </tr>\n",
       "    <tr>\n",
       "      <th>AGL60617</th>\n",
       "      <td>4wsw</td>\n",
       "    </tr>\n",
       "    <tr>\n",
       "      <th>AGL60775</th>\n",
       "      <td>4wsw</td>\n",
       "    </tr>\n",
       "  </tbody>\n",
       "</table>\n",
       "</div>"
      ],
      "text/plain": [
       "         template_id\n",
       "p_id                \n",
       "AAA43578        2wr5\n",
       "AEK49568        4wsw\n",
       "AGL58994        4wsw\n",
       "AGL60617        4wsw\n",
       "AGL60775        4wsw"
      ]
     },
     "execution_count": 71,
     "metadata": {},
     "output_type": "execute_result"
    }
   ],
   "source": [
    "m_template.head()"
   ]
  },
  {
   "cell_type": "code",
   "execution_count": 74,
   "metadata": {
    "collapsed": true
   },
   "outputs": [],
   "source": [
    "m_all = m_met.join(m_template, how=\"outer\")\n",
    "m_all = m_all.join(m_seq, how=\"outer\")\n",
    "m_all.index.name = \"p_id\""
   ]
  },
  {
   "cell_type": "code",
   "execution_count": 75,
   "metadata": {
    "collapsed": false
   },
   "outputs": [
    {
     "data": {
      "text/html": [
       "<div>\n",
       "<table border=\"1\" class=\"dataframe\">\n",
       "  <thead>\n",
       "    <tr style=\"text-align: right;\">\n",
       "      <th></th>\n",
       "      <th>chain</th>\n",
       "      <th>host</th>\n",
       "      <th>location</th>\n",
       "      <th>year</th>\n",
       "      <th>template_id</th>\n",
       "      <th>sequence</th>\n",
       "    </tr>\n",
       "    <tr>\n",
       "      <th>p_id</th>\n",
       "      <th></th>\n",
       "      <th></th>\n",
       "      <th></th>\n",
       "      <th></th>\n",
       "      <th></th>\n",
       "      <th></th>\n",
       "    </tr>\n",
       "  </thead>\n",
       "  <tbody>\n",
       "    <tr>\n",
       "      <th>AAA43090</th>\n",
       "      <td>A</td>\n",
       "      <td>human</td>\n",
       "      <td>Berlin</td>\n",
       "      <td>1964</td>\n",
       "      <td>3ku6</td>\n",
       "      <td>GDQICIGYHAN-STEKVDTILERNVTVTHAKDILEK--THNGKLCK...</td>\n",
       "    </tr>\n",
       "    <tr>\n",
       "      <th>AAA43117</th>\n",
       "      <td>A</td>\n",
       "      <td>human</td>\n",
       "      <td>duck</td>\n",
       "      <td>1972</td>\n",
       "      <td>3ku6</td>\n",
       "      <td>GDQICIGYHSN-STEKVDTILERNVTVTHAKDILEK--THNGKLCK...</td>\n",
       "    </tr>\n",
       "    <tr>\n",
       "      <th>AAA43185</th>\n",
       "      <td>A</td>\n",
       "      <td>human</td>\n",
       "      <td>Japan</td>\n",
       "      <td>1957</td>\n",
       "      <td>3ku6</td>\n",
       "      <td>GDQICIGYHAN-STEKVDTNLERNVTVTHAKDILEK--THNGKLCK...</td>\n",
       "    </tr>\n",
       "    <tr>\n",
       "      <th>AAA43205</th>\n",
       "      <td>A</td>\n",
       "      <td>avian</td>\n",
       "      <td>Ontario</td>\n",
       "      <td>1966</td>\n",
       "      <td>1jso</td>\n",
       "      <td>-DQICIGYHAN-STKQVDTIMEKNVTVTYAQDILEK--EHNGKLCS...</td>\n",
       "    </tr>\n",
       "    <tr>\n",
       "      <th>AAA43243</th>\n",
       "      <td>A</td>\n",
       "      <td>avian</td>\n",
       "      <td>Hong Kong</td>\n",
       "      <td>1978</td>\n",
       "      <td>3ku6</td>\n",
       "      <td>GDQICIGYHAN-STETVDTILERNVTVTHAKNILEK--THNGKLCK...</td>\n",
       "    </tr>\n",
       "  </tbody>\n",
       "</table>\n",
       "</div>"
      ],
      "text/plain": [
       "         chain   host   location  year template_id  \\\n",
       "p_id                                                 \n",
       "AAA43090     A  human     Berlin  1964        3ku6   \n",
       "AAA43117     A  human       duck  1972        3ku6   \n",
       "AAA43185     A  human      Japan  1957        3ku6   \n",
       "AAA43205     A  avian    Ontario  1966        1jso   \n",
       "AAA43243     A  avian  Hong Kong  1978        3ku6   \n",
       "\n",
       "                                                   sequence  \n",
       "p_id                                                         \n",
       "AAA43090  GDQICIGYHAN-STEKVDTILERNVTVTHAKDILEK--THNGKLCK...  \n",
       "AAA43117  GDQICIGYHSN-STEKVDTILERNVTVTHAKDILEK--THNGKLCK...  \n",
       "AAA43185  GDQICIGYHAN-STEKVDTNLERNVTVTHAKDILEK--THNGKLCK...  \n",
       "AAA43205  -DQICIGYHAN-STKQVDTIMEKNVTVTYAQDILEK--EHNGKLCS...  \n",
       "AAA43243  GDQICIGYHAN-STETVDTILERNVTVTHAKNILEK--THNGKLCK...  "
      ]
     },
     "execution_count": 75,
     "metadata": {},
     "output_type": "execute_result"
    }
   ],
   "source": [
    "m_all.head()"
   ]
  },
  {
   "cell_type": "code",
   "execution_count": 77,
   "metadata": {
    "collapsed": true
   },
   "outputs": [],
   "source": [
    "# WARNING: as of now without serotype or subtype\n",
    "m_all.to_csv(\"../site/data/models_metadata.csv\", float_format = '%.0f')"
   ]
  }
 ],
 "metadata": {
  "kernelspec": {
   "display_name": "Python 3",
   "language": "python",
   "name": "python3"
  },
  "language_info": {
   "codemirror_mode": {
    "name": "ipython",
    "version": 3
   },
   "file_extension": ".py",
   "mimetype": "text/x-python",
   "name": "python",
   "nbconvert_exporter": "python",
   "pygments_lexer": "ipython3",
   "version": "3.4.3"
  }
 },
 "nbformat": 4,
 "nbformat_minor": 0
}
