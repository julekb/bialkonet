{
 "cells": [
  {
   "cell_type": "code",
   "execution_count": 1,
   "metadata": {
    "collapsed": true
   },
   "outputs": [],
   "source": [
    "import pandas as pd"
   ]
  },
  {
   "cell_type": "code",
   "execution_count": 3,
   "metadata": {
    "collapsed": false
   },
   "outputs": [],
   "source": [
    "c_met = pd.read_csv(\"../HA_data/metadata/crystals_metadata.csv\", index_col=0)\n",
    "c_seq = pd.read_csv(\"../HA_data/aligned_sequences/crystal_aln.csv\", index_col=0)\n",
    "\n",
    "# NOT the same\n",
    "# I needed to add header: id,chain,host,location,year\n",
    "m_met = pd.read_csv(\"../HA_data/metadata/models_metadata.csv\", index_col=0, na_values=[\"-\"])\n",
    "m_seq = pd.read_csv(\"../HA_data/aligned_sequences/models_aln.csv\", index_col=0)\n",
    "m_template = pd.read_csv(\"../HA_data/models_template_mapping.csv\", index_col=0)"
   ]
  },
  {
   "cell_type": "markdown",
   "metadata": {},
   "source": [
    "# Crystal data"
   ]
  },
  {
   "cell_type": "code",
   "execution_count": 4,
   "metadata": {
    "collapsed": false
   },
   "outputs": [
    {
     "data": {
      "text/html": [
       "<div>\n",
       "<table border=\"1\" class=\"dataframe\">\n",
       "  <thead>\n",
       "    <tr style=\"text-align: right;\">\n",
       "      <th></th>\n",
       "      <th>chain</th>\n",
       "      <th>subtype</th>\n",
       "      <th>host</th>\n",
       "      <th>location</th>\n",
       "      <th>year</th>\n",
       "    </tr>\n",
       "    <tr>\n",
       "      <th>id</th>\n",
       "      <th></th>\n",
       "      <th></th>\n",
       "      <th></th>\n",
       "      <th></th>\n",
       "      <th></th>\n",
       "    </tr>\n",
       "  </thead>\n",
       "  <tbody>\n",
       "    <tr>\n",
       "      <th>1ha0</th>\n",
       "      <td>A</td>\n",
       "      <td>H3N2</td>\n",
       "      <td>NaN</td>\n",
       "      <td>Aichi</td>\n",
       "      <td>1968</td>\n",
       "    </tr>\n",
       "    <tr>\n",
       "      <th>4eef</th>\n",
       "      <td>A</td>\n",
       "      <td>H1N1</td>\n",
       "      <td>NaN</td>\n",
       "      <td>BrevigMission</td>\n",
       "      <td>1918</td>\n",
       "    </tr>\n",
       "    <tr>\n",
       "      <th>4cqp</th>\n",
       "      <td>A</td>\n",
       "      <td>H5N1</td>\n",
       "      <td>NaN</td>\n",
       "      <td>Vietnam</td>\n",
       "      <td>2004</td>\n",
       "    </tr>\n",
       "    <tr>\n",
       "      <th>4cqq</th>\n",
       "      <td>A</td>\n",
       "      <td>H5N1</td>\n",
       "      <td>NaN</td>\n",
       "      <td>Vietnam</td>\n",
       "      <td>2004</td>\n",
       "    </tr>\n",
       "    <tr>\n",
       "      <th>4cqr</th>\n",
       "      <td>A</td>\n",
       "      <td>H5N1</td>\n",
       "      <td>NaN</td>\n",
       "      <td>Vietnam</td>\n",
       "      <td>2004</td>\n",
       "    </tr>\n",
       "  </tbody>\n",
       "</table>\n",
       "</div>"
      ],
      "text/plain": [
       "     chain subtype host       location  year\n",
       "id                                          \n",
       "1ha0     A    H3N2  NaN          Aichi  1968\n",
       "4eef     A    H1N1  NaN  BrevigMission  1918\n",
       "4cqp     A    H5N1  NaN        Vietnam  2004\n",
       "4cqq     A    H5N1  NaN        Vietnam  2004\n",
       "4cqr     A    H5N1  NaN        Vietnam  2004"
      ]
     },
     "execution_count": 4,
     "metadata": {},
     "output_type": "execute_result"
    }
   ],
   "source": [
    "c_met.head()"
   ]
  },
  {
   "cell_type": "code",
   "execution_count": 5,
   "metadata": {
    "collapsed": false
   },
   "outputs": [
    {
     "data": {
      "text/plain": [
       "['H3N2']"
      ]
     },
     "execution_count": 5,
     "metadata": {},
     "output_type": "execute_result"
    }
   ],
   "source": [
    "\"H3N2\".split(\"\\w\")"
   ]
  },
  {
   "cell_type": "code",
   "execution_count": 6,
   "metadata": {
    "collapsed": false
   },
   "outputs": [
    {
     "data": {
      "text/plain": [
       "52"
      ]
     },
     "execution_count": 6,
     "metadata": {},
     "output_type": "execute_result"
    }
   ],
   "source": [
    "len(c_met.location.value_counts())"
   ]
  },
  {
   "cell_type": "code",
   "execution_count": 7,
   "metadata": {
    "collapsed": false
   },
   "outputs": [
    {
     "data": {
      "text/plain": [
       "avian                     54\n",
       "human                     14\n",
       "canine                     7\n",
       "equine                     7\n",
       "reassortant X31            6\n",
       "swine                      5\n",
       "bat                        2\n",
       "reassortant IDCDC_RG29     1\n",
       "dtype: int64"
      ]
     },
     "execution_count": 7,
     "metadata": {},
     "output_type": "execute_result"
    }
   ],
   "source": [
    "c_met.host.value_counts()"
   ]
  },
  {
   "cell_type": "code",
   "execution_count": 8,
   "metadata": {
    "collapsed": true
   },
   "outputs": [],
   "source": [
    "def clean_host(x):\n",
    "    if pd.isnull(x):\n",
    "        return \"human\"\n",
    "    elif x.find(\"reassortant\") > -1:\n",
    "        return \"reassortant\"\n",
    "    else:\n",
    "        return x.replace(\"_\", \" \")"
   ]
  },
  {
   "cell_type": "code",
   "execution_count": 9,
   "metadata": {
    "collapsed": true
   },
   "outputs": [],
   "source": [
    "c_met.host = c_met.host.apply(clean_host)"
   ]
  },
  {
   "cell_type": "code",
   "execution_count": 12,
   "metadata": {
    "collapsed": false
   },
   "outputs": [],
   "source": [
    "c_met[\"H\"] = c_met.subtype.apply(lambda x: int(x.split(\"N\")[0][1:]))\n",
    "c_met[\"N\"] = c_met.subtype.apply(lambda x: int(x.split(\"N\")[1]) if x[-1] != \"x\" else \"\")"
   ]
  },
  {
   "cell_type": "code",
   "execution_count": 13,
   "metadata": {
    "collapsed": false
   },
   "outputs": [
    {
     "data": {
      "text/html": [
       "<div>\n",
       "<table border=\"1\" class=\"dataframe\">\n",
       "  <thead>\n",
       "    <tr style=\"text-align: right;\">\n",
       "      <th></th>\n",
       "      <th>sequence</th>\n",
       "    </tr>\n",
       "    <tr>\n",
       "      <th>p_id</th>\n",
       "      <th></th>\n",
       "    </tr>\n",
       "  </thead>\n",
       "  <tbody>\n",
       "    <tr>\n",
       "      <th>4bgx</th>\n",
       "      <td>-DQICIGYHANNSTEQVDTIMEKNVTVTHAQDILEKTHNGKLCDLD...</td>\n",
       "    </tr>\n",
       "    <tr>\n",
       "      <th>4bgy</th>\n",
       "      <td>-DQICIGYHANNSTEQVDTIMEKNVTVTHAQDILEKTHNGKLCDLD...</td>\n",
       "    </tr>\n",
       "    <tr>\n",
       "      <th>4bgw</th>\n",
       "      <td>-DQICIGYHANNSTEQVDTIMEKNVTVTHAQDILEKTHNGKLCDLD...</td>\n",
       "    </tr>\n",
       "    <tr>\n",
       "      <th>3znm</th>\n",
       "      <td>-DQICIGYHANNSTEQVDTIMEKNVTVTHAQDILEKTHNGKLCDLD...</td>\n",
       "    </tr>\n",
       "    <tr>\n",
       "      <th>3znl</th>\n",
       "      <td>-DQICIGYHANNSTEQVDTIMEKNVTVTHAQDILEKTHNGKLCDLD...</td>\n",
       "    </tr>\n",
       "  </tbody>\n",
       "</table>\n",
       "</div>"
      ],
      "text/plain": [
       "                                               sequence\n",
       "p_id                                                   \n",
       "4bgx  -DQICIGYHANNSTEQVDTIMEKNVTVTHAQDILEKTHNGKLCDLD...\n",
       "4bgy  -DQICIGYHANNSTEQVDTIMEKNVTVTHAQDILEKTHNGKLCDLD...\n",
       "4bgw  -DQICIGYHANNSTEQVDTIMEKNVTVTHAQDILEKTHNGKLCDLD...\n",
       "3znm  -DQICIGYHANNSTEQVDTIMEKNVTVTHAQDILEKTHNGKLCDLD...\n",
       "3znl  -DQICIGYHANNSTEQVDTIMEKNVTVTHAQDILEKTHNGKLCDLD..."
      ]
     },
     "execution_count": 13,
     "metadata": {},
     "output_type": "execute_result"
    }
   ],
   "source": [
    "c_seq.head()"
   ]
  },
  {
   "cell_type": "code",
   "execution_count": 14,
   "metadata": {
    "collapsed": false
   },
   "outputs": [
    {
     "data": {
      "text/plain": [
       "Index([], dtype='object')"
      ]
     },
     "execution_count": 14,
     "metadata": {},
     "output_type": "execute_result"
    }
   ],
   "source": [
    "# sequence for other data missing (but not the other way)\n",
    "c_seq.index.difference(c_met.index)"
   ]
  },
  {
   "cell_type": "code",
   "execution_count": 15,
   "metadata": {
    "collapsed": false
   },
   "outputs": [],
   "source": [
    "c_all = c_met.join(c_seq, how=\"outer\")"
   ]
  },
  {
   "cell_type": "code",
   "execution_count": 16,
   "metadata": {
    "collapsed": false
   },
   "outputs": [
    {
     "data": {
      "text/html": [
       "<div>\n",
       "<table border=\"1\" class=\"dataframe\">\n",
       "  <thead>\n",
       "    <tr style=\"text-align: right;\">\n",
       "      <th></th>\n",
       "      <th>chain</th>\n",
       "      <th>subtype</th>\n",
       "      <th>host</th>\n",
       "      <th>location</th>\n",
       "      <th>year</th>\n",
       "      <th>H</th>\n",
       "      <th>N</th>\n",
       "      <th>sequence</th>\n",
       "    </tr>\n",
       "  </thead>\n",
       "  <tbody>\n",
       "    <tr>\n",
       "      <th>1eo8</th>\n",
       "      <td>A</td>\n",
       "      <td>H3N2</td>\n",
       "      <td>human</td>\n",
       "      <td>Aichi</td>\n",
       "      <td>1968</td>\n",
       "      <td>3</td>\n",
       "      <td>2</td>\n",
       "      <td>TATLCLGHHAVPNGTLVKTITDDQIEVTNATELVQSSSTGKICNN-...</td>\n",
       "    </tr>\n",
       "    <tr>\n",
       "      <th>1ha0</th>\n",
       "      <td>A</td>\n",
       "      <td>H3N2</td>\n",
       "      <td>human</td>\n",
       "      <td>Aichi</td>\n",
       "      <td>1968</td>\n",
       "      <td>3</td>\n",
       "      <td>2</td>\n",
       "      <td>TATLCLGHHAVPNGTLVKTITDDQIEVTNATELVQSSSTGKICNN-...</td>\n",
       "    </tr>\n",
       "    <tr>\n",
       "      <th>1hgd</th>\n",
       "      <td>A</td>\n",
       "      <td>H3N2</td>\n",
       "      <td>reassortant</td>\n",
       "      <td>NaN</td>\n",
       "      <td>NaN</td>\n",
       "      <td>3</td>\n",
       "      <td>2</td>\n",
       "      <td>TATLCLGHHAVPNGTLVKTITDDQIEVTNATELVQSSSTGKICNN-...</td>\n",
       "    </tr>\n",
       "    <tr>\n",
       "      <th>1hge</th>\n",
       "      <td>A</td>\n",
       "      <td>H3N2</td>\n",
       "      <td>reassortant</td>\n",
       "      <td>NaN</td>\n",
       "      <td>NaN</td>\n",
       "      <td>3</td>\n",
       "      <td>2</td>\n",
       "      <td>TATLCLGHHAVPNGTLVKTITDDQIEVTNATELVQSSSTGKICNN-...</td>\n",
       "    </tr>\n",
       "    <tr>\n",
       "      <th>1hgf</th>\n",
       "      <td>A</td>\n",
       "      <td>H3N2</td>\n",
       "      <td>reassortant</td>\n",
       "      <td>NaN</td>\n",
       "      <td>NaN</td>\n",
       "      <td>3</td>\n",
       "      <td>2</td>\n",
       "      <td>TATLCLGHHAVPNGTLVKTITDDQIEVTNATELVQSSSTGKICNN-...</td>\n",
       "    </tr>\n",
       "  </tbody>\n",
       "</table>\n",
       "</div>"
      ],
      "text/plain": [
       "     chain subtype         host location  year  H  N  \\\n",
       "1eo8     A    H3N2        human    Aichi  1968  3  2   \n",
       "1ha0     A    H3N2        human    Aichi  1968  3  2   \n",
       "1hgd     A    H3N2  reassortant      NaN   NaN  3  2   \n",
       "1hge     A    H3N2  reassortant      NaN   NaN  3  2   \n",
       "1hgf     A    H3N2  reassortant      NaN   NaN  3  2   \n",
       "\n",
       "                                               sequence  \n",
       "1eo8  TATLCLGHHAVPNGTLVKTITDDQIEVTNATELVQSSSTGKICNN-...  \n",
       "1ha0  TATLCLGHHAVPNGTLVKTITDDQIEVTNATELVQSSSTGKICNN-...  \n",
       "1hgd  TATLCLGHHAVPNGTLVKTITDDQIEVTNATELVQSSSTGKICNN-...  \n",
       "1hge  TATLCLGHHAVPNGTLVKTITDDQIEVTNATELVQSSSTGKICNN-...  \n",
       "1hgf  TATLCLGHHAVPNGTLVKTITDDQIEVTNATELVQSSSTGKICNN-...  "
      ]
     },
     "execution_count": 16,
     "metadata": {},
     "output_type": "execute_result"
    }
   ],
   "source": [
    "c_all.head()"
   ]
  },
  {
   "cell_type": "code",
   "execution_count": 27,
   "metadata": {
    "collapsed": true
   },
   "outputs": [],
   "source": [
    "c_all.index.name = \"id\""
   ]
  },
  {
   "cell_type": "code",
   "execution_count": 28,
   "metadata": {
    "collapsed": true
   },
   "outputs": [],
   "source": [
    "c_all.to_csv(\"../site/data/crystals_metadata.csv\", float_format = '%.0f')  # for missing H/N"
   ]
  },
  {
   "cell_type": "markdown",
   "metadata": {},
   "source": [
    "## Model data"
   ]
  },
  {
   "cell_type": "code",
   "execution_count": 18,
   "metadata": {
    "collapsed": false
   },
   "outputs": [
    {
     "data": {
      "text/html": [
       "<div>\n",
       "<table border=\"1\" class=\"dataframe\">\n",
       "  <thead>\n",
       "    <tr style=\"text-align: right;\">\n",
       "      <th></th>\n",
       "      <th>chain</th>\n",
       "      <th>host</th>\n",
       "      <th>location</th>\n",
       "      <th>year</th>\n",
       "      <th>subtype</th>\n",
       "    </tr>\n",
       "    <tr>\n",
       "      <th>id</th>\n",
       "      <th></th>\n",
       "      <th></th>\n",
       "      <th></th>\n",
       "      <th></th>\n",
       "      <th></th>\n",
       "    </tr>\n",
       "  </thead>\n",
       "  <tbody>\n",
       "    <tr>\n",
       "      <th>AAA43090</th>\n",
       "      <td>A</td>\n",
       "      <td>NaN</td>\n",
       "      <td>Berlin</td>\n",
       "      <td>1964</td>\n",
       "      <td>H2N2</td>\n",
       "    </tr>\n",
       "    <tr>\n",
       "      <th>AAA43117</th>\n",
       "      <td>A</td>\n",
       "      <td>avian</td>\n",
       "      <td>NaN</td>\n",
       "      <td>1972</td>\n",
       "      <td>H2N9</td>\n",
       "    </tr>\n",
       "    <tr>\n",
       "      <th>AAA43185</th>\n",
       "      <td>A</td>\n",
       "      <td>NaN</td>\n",
       "      <td>Japan</td>\n",
       "      <td>1957</td>\n",
       "      <td>H2N2</td>\n",
       "    </tr>\n",
       "    <tr>\n",
       "      <th>AAA43205</th>\n",
       "      <td>A</td>\n",
       "      <td>avian</td>\n",
       "      <td>Ontario</td>\n",
       "      <td>1966</td>\n",
       "      <td>H5N9</td>\n",
       "    </tr>\n",
       "    <tr>\n",
       "      <th>AAA43243</th>\n",
       "      <td>A</td>\n",
       "      <td>avian</td>\n",
       "      <td>Hong Kong</td>\n",
       "      <td>1978</td>\n",
       "      <td>H2N2</td>\n",
       "    </tr>\n",
       "  </tbody>\n",
       "</table>\n",
       "</div>"
      ],
      "text/plain": [
       "         chain   host   location  year subtype\n",
       "id                                            \n",
       "AAA43090     A    NaN     Berlin  1964    H2N2\n",
       "AAA43117     A  avian        NaN  1972    H2N9\n",
       "AAA43185     A    NaN      Japan  1957    H2N2\n",
       "AAA43205     A  avian    Ontario  1966    H5N9\n",
       "AAA43243     A  avian  Hong Kong  1978    H2N2"
      ]
     },
     "execution_count": 18,
     "metadata": {},
     "output_type": "execute_result"
    }
   ],
   "source": [
    "m_met.head()"
   ]
  },
  {
   "cell_type": "code",
   "execution_count": 19,
   "metadata": {
    "collapsed": false
   },
   "outputs": [
    {
     "data": {
      "text/plain": [
       "swine             485\n",
       "avian             326\n",
       "emu                 2\n",
       "ferret              1\n",
       "giant anteater      1\n",
       "dtype: int64"
      ]
     },
     "execution_count": 19,
     "metadata": {},
     "output_type": "execute_result"
    }
   ],
   "source": [
    "m_met.host.value_counts()"
   ]
  },
  {
   "cell_type": "code",
   "execution_count": 20,
   "metadata": {
    "collapsed": false
   },
   "outputs": [],
   "source": [
    "m_met.host = m_met.host.fillna(\"human\")"
   ]
  },
  {
   "cell_type": "code",
   "execution_count": 21,
   "metadata": {
    "collapsed": false
   },
   "outputs": [
    {
     "data": {
      "text/plain": [
       "316"
      ]
     },
     "execution_count": 21,
     "metadata": {},
     "output_type": "execute_result"
    }
   ],
   "source": [
    "len(m_met.location.value_counts())"
   ]
  },
  {
   "cell_type": "code",
   "execution_count": 22,
   "metadata": {
    "collapsed": false
   },
   "outputs": [
    {
     "data": {
      "text/html": [
       "<div>\n",
       "<table border=\"1\" class=\"dataframe\">\n",
       "  <thead>\n",
       "    <tr style=\"text-align: right;\">\n",
       "      <th></th>\n",
       "      <th>sequence</th>\n",
       "    </tr>\n",
       "    <tr>\n",
       "      <th>p_id</th>\n",
       "      <th></th>\n",
       "    </tr>\n",
       "  </thead>\n",
       "  <tbody>\n",
       "    <tr>\n",
       "      <th>AAA43090</th>\n",
       "      <td>GDQICIGYHAN-STEKVDTILERNVTVTHAKDILEK--THNGKLCK...</td>\n",
       "    </tr>\n",
       "    <tr>\n",
       "      <th>AAA43247</th>\n",
       "      <td>GDQICIGYHAN-STEKVDTILERNVTVTHAKDILEK--THNGKLCK...</td>\n",
       "    </tr>\n",
       "    <tr>\n",
       "      <th>ABO38701</th>\n",
       "      <td>GDQICIGYHAN-STEKVDTILERNVTVTHAKDILEK--THNGKLCK...</td>\n",
       "    </tr>\n",
       "    <tr>\n",
       "      <th>ABO44057</th>\n",
       "      <td>GDQICIGYHAN-STEKVDTILERNVTVTHAKDILEK--THNGKLCK...</td>\n",
       "    </tr>\n",
       "    <tr>\n",
       "      <th>ABO52247</th>\n",
       "      <td>GDQICIGYHAN-STEKVDTILERNVTVTHAKDILEK--THNGKLCK...</td>\n",
       "    </tr>\n",
       "  </tbody>\n",
       "</table>\n",
       "</div>"
      ],
      "text/plain": [
       "                                                   sequence\n",
       "p_id                                                       \n",
       "AAA43090  GDQICIGYHAN-STEKVDTILERNVTVTHAKDILEK--THNGKLCK...\n",
       "AAA43247  GDQICIGYHAN-STEKVDTILERNVTVTHAKDILEK--THNGKLCK...\n",
       "ABO38701  GDQICIGYHAN-STEKVDTILERNVTVTHAKDILEK--THNGKLCK...\n",
       "ABO44057  GDQICIGYHAN-STEKVDTILERNVTVTHAKDILEK--THNGKLCK...\n",
       "ABO52247  GDQICIGYHAN-STEKVDTILERNVTVTHAKDILEK--THNGKLCK..."
      ]
     },
     "execution_count": 22,
     "metadata": {},
     "output_type": "execute_result"
    }
   ],
   "source": [
    "m_seq.head()"
   ]
  },
  {
   "cell_type": "code",
   "execution_count": 23,
   "metadata": {
    "collapsed": false
   },
   "outputs": [
    {
     "data": {
      "text/html": [
       "<div>\n",
       "<table border=\"1\" class=\"dataframe\">\n",
       "  <thead>\n",
       "    <tr style=\"text-align: right;\">\n",
       "      <th></th>\n",
       "      <th>template_id</th>\n",
       "    </tr>\n",
       "    <tr>\n",
       "      <th>p_id</th>\n",
       "      <th></th>\n",
       "    </tr>\n",
       "  </thead>\n",
       "  <tbody>\n",
       "    <tr>\n",
       "      <th>AAA43578</th>\n",
       "      <td>2wr5</td>\n",
       "    </tr>\n",
       "    <tr>\n",
       "      <th>AEK49568</th>\n",
       "      <td>4wsw</td>\n",
       "    </tr>\n",
       "    <tr>\n",
       "      <th>AGL58994</th>\n",
       "      <td>4wsw</td>\n",
       "    </tr>\n",
       "    <tr>\n",
       "      <th>AGL60617</th>\n",
       "      <td>4wsw</td>\n",
       "    </tr>\n",
       "    <tr>\n",
       "      <th>AGL60775</th>\n",
       "      <td>4wsw</td>\n",
       "    </tr>\n",
       "  </tbody>\n",
       "</table>\n",
       "</div>"
      ],
      "text/plain": [
       "         template_id\n",
       "p_id                \n",
       "AAA43578        2wr5\n",
       "AEK49568        4wsw\n",
       "AGL58994        4wsw\n",
       "AGL60617        4wsw\n",
       "AGL60775        4wsw"
      ]
     },
     "execution_count": 23,
     "metadata": {},
     "output_type": "execute_result"
    }
   ],
   "source": [
    "m_template.head()"
   ]
  },
  {
   "cell_type": "code",
   "execution_count": 24,
   "metadata": {
    "collapsed": true
   },
   "outputs": [],
   "source": [
    "m_all = m_met.join(m_template, how=\"outer\")\n",
    "m_all = m_all.join(m_seq, how=\"outer\")\n",
    "m_all.index.name = \"p_id\""
   ]
  },
  {
   "cell_type": "code",
   "execution_count": 25,
   "metadata": {
    "collapsed": false
   },
   "outputs": [
    {
     "data": {
      "text/html": [
       "<div>\n",
       "<table border=\"1\" class=\"dataframe\">\n",
       "  <thead>\n",
       "    <tr style=\"text-align: right;\">\n",
       "      <th></th>\n",
       "      <th>chain</th>\n",
       "      <th>host</th>\n",
       "      <th>location</th>\n",
       "      <th>year</th>\n",
       "      <th>subtype</th>\n",
       "      <th>template_id</th>\n",
       "      <th>sequence</th>\n",
       "    </tr>\n",
       "    <tr>\n",
       "      <th>p_id</th>\n",
       "      <th></th>\n",
       "      <th></th>\n",
       "      <th></th>\n",
       "      <th></th>\n",
       "      <th></th>\n",
       "      <th></th>\n",
       "      <th></th>\n",
       "    </tr>\n",
       "  </thead>\n",
       "  <tbody>\n",
       "    <tr>\n",
       "      <th>AAA43090</th>\n",
       "      <td>A</td>\n",
       "      <td>human</td>\n",
       "      <td>Berlin</td>\n",
       "      <td>1964</td>\n",
       "      <td>H2N2</td>\n",
       "      <td>3ku6</td>\n",
       "      <td>GDQICIGYHAN-STEKVDTILERNVTVTHAKDILEK--THNGKLCK...</td>\n",
       "    </tr>\n",
       "    <tr>\n",
       "      <th>AAA43117</th>\n",
       "      <td>A</td>\n",
       "      <td>avian</td>\n",
       "      <td>NaN</td>\n",
       "      <td>1972</td>\n",
       "      <td>H2N9</td>\n",
       "      <td>3ku6</td>\n",
       "      <td>GDQICIGYHSN-STEKVDTILERNVTVTHAKDILEK--THNGKLCK...</td>\n",
       "    </tr>\n",
       "    <tr>\n",
       "      <th>AAA43185</th>\n",
       "      <td>A</td>\n",
       "      <td>human</td>\n",
       "      <td>Japan</td>\n",
       "      <td>1957</td>\n",
       "      <td>H2N2</td>\n",
       "      <td>3ku6</td>\n",
       "      <td>GDQICIGYHAN-STEKVDTNLERNVTVTHAKDILEK--THNGKLCK...</td>\n",
       "    </tr>\n",
       "    <tr>\n",
       "      <th>AAA43205</th>\n",
       "      <td>A</td>\n",
       "      <td>avian</td>\n",
       "      <td>Ontario</td>\n",
       "      <td>1966</td>\n",
       "      <td>H5N9</td>\n",
       "      <td>1jso</td>\n",
       "      <td>-DQICIGYHAN-STKQVDTIMEKNVTVTYAQDILEK--EHNGKLCS...</td>\n",
       "    </tr>\n",
       "    <tr>\n",
       "      <th>AAA43243</th>\n",
       "      <td>A</td>\n",
       "      <td>avian</td>\n",
       "      <td>Hong Kong</td>\n",
       "      <td>1978</td>\n",
       "      <td>H2N2</td>\n",
       "      <td>3ku6</td>\n",
       "      <td>GDQICIGYHAN-STETVDTILERNVTVTHAKNILEK--THNGKLCK...</td>\n",
       "    </tr>\n",
       "  </tbody>\n",
       "</table>\n",
       "</div>"
      ],
      "text/plain": [
       "         chain   host   location  year subtype template_id  \\\n",
       "p_id                                                         \n",
       "AAA43090     A  human     Berlin  1964    H2N2        3ku6   \n",
       "AAA43117     A  avian        NaN  1972    H2N9        3ku6   \n",
       "AAA43185     A  human      Japan  1957    H2N2        3ku6   \n",
       "AAA43205     A  avian    Ontario  1966    H5N9        1jso   \n",
       "AAA43243     A  avian  Hong Kong  1978    H2N2        3ku6   \n",
       "\n",
       "                                                   sequence  \n",
       "p_id                                                         \n",
       "AAA43090  GDQICIGYHAN-STEKVDTILERNVTVTHAKDILEK--THNGKLCK...  \n",
       "AAA43117  GDQICIGYHSN-STEKVDTILERNVTVTHAKDILEK--THNGKLCK...  \n",
       "AAA43185  GDQICIGYHAN-STEKVDTNLERNVTVTHAKDILEK--THNGKLCK...  \n",
       "AAA43205  -DQICIGYHAN-STKQVDTIMEKNVTVTYAQDILEK--EHNGKLCS...  \n",
       "AAA43243  GDQICIGYHAN-STETVDTILERNVTVTHAKNILEK--THNGKLCK...  "
      ]
     },
     "execution_count": 25,
     "metadata": {},
     "output_type": "execute_result"
    }
   ],
   "source": [
    "m_all.head()"
   ]
  },
  {
   "cell_type": "code",
   "execution_count": 26,
   "metadata": {
    "collapsed": true
   },
   "outputs": [],
   "source": [
    "# WARNING: as of now without serotype or subtype\n",
    "m_all.to_csv(\"../site/data/models_metadata.csv\", float_format = '%.0f')"
   ]
  },
  {
   "cell_type": "code",
   "execution_count": null,
   "metadata": {
    "collapsed": true
   },
   "outputs": [],
   "source": []
  },
  {
   "cell_type": "code",
   "execution_count": null,
   "metadata": {
    "collapsed": true
   },
   "outputs": [],
   "source": []
  }
 ],
 "metadata": {
  "kernelspec": {
   "display_name": "Python 3",
   "language": "python",
   "name": "python3"
  },
  "language_info": {
   "codemirror_mode": {
    "name": "ipython",
    "version": 3
   },
   "file_extension": ".py",
   "mimetype": "text/x-python",
   "name": "python",
   "nbconvert_exporter": "python",
   "pygments_lexer": "ipython3",
   "version": "3.4.3"
  }
 },
 "nbformat": 4,
 "nbformat_minor": 0
}
