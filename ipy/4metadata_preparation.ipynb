{
 "cells": [
  {
   "cell_type": "code",
   "execution_count": 74,
   "metadata": {
    "collapsed": true
   },
   "outputs": [],
   "source": [
    "import pandas as pd"
   ]
  },
  {
   "cell_type": "code",
   "execution_count": 75,
   "metadata": {
    "collapsed": false
   },
   "outputs": [],
   "source": [
    "c_met = pd.read_csv(\"../HA_data/metadata/crystals_metadata.csv\", index_col=0)\n",
    "c_seq = pd.read_csv(\"../HA_data/aligned_sequences/sequence_alignment/crystals_aln_seq.csv\", index_col=0)\n",
    "\n",
    "# NOT the same\n",
    "# I needed to add header: id,chain,host,location,year\n",
    "m_met = pd.read_csv(\"../HA_data/metadata/models_metadata.csv\", index_col=0, na_values=[\"-\"])\n",
    "m_seq = pd.read_csv(\"../HA_data/aligned_sequences/sequence_alignment/models_aln_seq.csv\", index_col=0)\n",
    "m_template = pd.read_csv(\"../HA_data/models_template_mapping.csv\", index_col=0)"
   ]
  },
  {
   "cell_type": "markdown",
   "metadata": {},
   "source": [
    "# Crystal data"
   ]
  },
  {
   "cell_type": "code",
   "execution_count": 76,
   "metadata": {
    "collapsed": false
   },
   "outputs": [
    {
     "data": {
      "text/html": [
       "<div>\n",
       "<table border=\"1\" class=\"dataframe\">\n",
       "  <thead>\n",
       "    <tr style=\"text-align: right;\">\n",
       "      <th></th>\n",
       "      <th>chain</th>\n",
       "      <th>subtype</th>\n",
       "      <th>host</th>\n",
       "      <th>location</th>\n",
       "      <th>year</th>\n",
       "      <th>continent</th>\n",
       "    </tr>\n",
       "    <tr>\n",
       "      <th>id</th>\n",
       "      <th></th>\n",
       "      <th></th>\n",
       "      <th></th>\n",
       "      <th></th>\n",
       "      <th></th>\n",
       "      <th></th>\n",
       "    </tr>\n",
       "  </thead>\n",
       "  <tbody>\n",
       "    <tr>\n",
       "      <th>1ha0</th>\n",
       "      <td>A</td>\n",
       "      <td>H3N2</td>\n",
       "      <td>NaN</td>\n",
       "      <td>Aichi</td>\n",
       "      <td>1968</td>\n",
       "      <td>Asia</td>\n",
       "    </tr>\n",
       "    <tr>\n",
       "      <th>4eef</th>\n",
       "      <td>A</td>\n",
       "      <td>H1N1</td>\n",
       "      <td>NaN</td>\n",
       "      <td>BrevigMission</td>\n",
       "      <td>1918</td>\n",
       "      <td>North America</td>\n",
       "    </tr>\n",
       "    <tr>\n",
       "      <th>4cqp</th>\n",
       "      <td>A</td>\n",
       "      <td>H5N1</td>\n",
       "      <td>NaN</td>\n",
       "      <td>Vietnam</td>\n",
       "      <td>2004</td>\n",
       "      <td>Asia</td>\n",
       "    </tr>\n",
       "    <tr>\n",
       "      <th>4cqq</th>\n",
       "      <td>A</td>\n",
       "      <td>H5N1</td>\n",
       "      <td>NaN</td>\n",
       "      <td>Vietnam</td>\n",
       "      <td>2004</td>\n",
       "      <td>Asia</td>\n",
       "    </tr>\n",
       "    <tr>\n",
       "      <th>4cqr</th>\n",
       "      <td>A</td>\n",
       "      <td>H5N1</td>\n",
       "      <td>NaN</td>\n",
       "      <td>Vietnam</td>\n",
       "      <td>2004</td>\n",
       "      <td>Asia</td>\n",
       "    </tr>\n",
       "  </tbody>\n",
       "</table>\n",
       "</div>"
      ],
      "text/plain": [
       "     chain subtype host       location  year      continent\n",
       "id                                                         \n",
       "1ha0     A    H3N2  NaN          Aichi  1968           Asia\n",
       "4eef     A    H1N1  NaN  BrevigMission  1918  North America\n",
       "4cqp     A    H5N1  NaN        Vietnam  2004           Asia\n",
       "4cqq     A    H5N1  NaN        Vietnam  2004           Asia\n",
       "4cqr     A    H5N1  NaN        Vietnam  2004           Asia"
      ]
     },
     "execution_count": 76,
     "metadata": {},
     "output_type": "execute_result"
    }
   ],
   "source": [
    "c_met.head()"
   ]
  },
  {
   "cell_type": "code",
   "execution_count": 77,
   "metadata": {
    "collapsed": false
   },
   "outputs": [
    {
     "data": {
      "text/plain": [
       "['H3N2']"
      ]
     },
     "execution_count": 77,
     "metadata": {},
     "output_type": "execute_result"
    }
   ],
   "source": [
    "\"H3N2\".split(\"\\w\")"
   ]
  },
  {
   "cell_type": "code",
   "execution_count": 78,
   "metadata": {
    "collapsed": false
   },
   "outputs": [
    {
     "data": {
      "text/plain": [
       "51"
      ]
     },
     "execution_count": 78,
     "metadata": {},
     "output_type": "execute_result"
    }
   ],
   "source": [
    "len(c_met.location.value_counts())"
   ]
  },
  {
   "cell_type": "code",
   "execution_count": 79,
   "metadata": {
    "collapsed": false
   },
   "outputs": [
    {
     "data": {
      "text/plain": [
       "avian                     54\n",
       "human                     14\n",
       "canine                     7\n",
       "equine                     7\n",
       "reassortant X31            6\n",
       "swine                      5\n",
       "bat                        2\n",
       "reassortant IDCDC_RG29     1\n",
       "dtype: int64"
      ]
     },
     "execution_count": 79,
     "metadata": {},
     "output_type": "execute_result"
    }
   ],
   "source": [
    "c_met.host.value_counts()"
   ]
  },
  {
   "cell_type": "code",
   "execution_count": 80,
   "metadata": {
    "collapsed": true
   },
   "outputs": [],
   "source": [
    "def clean_host(x):\n",
    "    if pd.isnull(x):\n",
    "        return \"human\"\n",
    "    elif x.find(\"reassortant\") > -1:\n",
    "        return \"reassortant\"\n",
    "    else:\n",
    "        return x.replace(\"_\", \" \")"
   ]
  },
  {
   "cell_type": "code",
   "execution_count": 81,
   "metadata": {
    "collapsed": true
   },
   "outputs": [],
   "source": [
    "c_met.host = c_met.host.apply(clean_host)"
   ]
  },
  {
   "cell_type": "code",
   "execution_count": 82,
   "metadata": {
    "collapsed": true
   },
   "outputs": [],
   "source": [
    "c_met[\"host_class\"] = c_met.host.map({'human': 'human', 'avian': 'avian', 'reassortant': 'reassortant',\n",
    "                                   'canine': 'mammalian', 'equine': 'mammalian', 'swine': 'mammalian',\n",
    "                                    'bat': 'mammalian'})"
   ]
  },
  {
   "cell_type": "code",
   "execution_count": 83,
   "metadata": {
    "collapsed": false
   },
   "outputs": [
    {
     "data": {
      "text/plain": [
       "human          153\n",
       "avian           54\n",
       "mammalian       21\n",
       "reassortant      7\n",
       "dtype: int64"
      ]
     },
     "execution_count": 83,
     "metadata": {},
     "output_type": "execute_result"
    }
   ],
   "source": [
    "c_met.host_class.value_counts()"
   ]
  },
  {
   "cell_type": "code",
   "execution_count": 84,
   "metadata": {
    "collapsed": false
   },
   "outputs": [],
   "source": [
    "c_met[\"H\"] = c_met.subtype.apply(lambda x: int(x.split(\"N\")[0][1:]))\n",
    "c_met[\"N\"] = c_met.subtype.apply(lambda x: int(x.split(\"N\")[1]) if x[-1] != \"x\" else \"\")"
   ]
  },
  {
   "cell_type": "code",
   "execution_count": 85,
   "metadata": {
    "collapsed": false
   },
   "outputs": [
    {
     "data": {
      "text/html": [
       "<div>\n",
       "<table border=\"1\" class=\"dataframe\">\n",
       "  <thead>\n",
       "    <tr style=\"text-align: right;\">\n",
       "      <th></th>\n",
       "      <th>sequence</th>\n",
       "    </tr>\n",
       "    <tr>\n",
       "      <th>p_id</th>\n",
       "      <th></th>\n",
       "    </tr>\n",
       "  </thead>\n",
       "  <tbody>\n",
       "    <tr>\n",
       "      <th>4bgx</th>\n",
       "      <td>-DQICIGYHANNSTEQVDTIMEKNVTVTHAQDILEKTHNGKLCDLD...</td>\n",
       "    </tr>\n",
       "    <tr>\n",
       "      <th>4bgy</th>\n",
       "      <td>-DQICIGYHANNSTEQVDTIMEKNVTVTHAQDILEKTHNGKLCDLD...</td>\n",
       "    </tr>\n",
       "    <tr>\n",
       "      <th>4bgw</th>\n",
       "      <td>-DQICIGYHANNSTEQVDTIMEKNVTVTHAQDILEKTHNGKLCDLD...</td>\n",
       "    </tr>\n",
       "    <tr>\n",
       "      <th>3znm</th>\n",
       "      <td>-DQICIGYHANNSTEQVDTIMEKNVTVTHAQDILEKTHNGKLCDLD...</td>\n",
       "    </tr>\n",
       "    <tr>\n",
       "      <th>3znl</th>\n",
       "      <td>-DQICIGYHANNSTEQVDTIMEKNVTVTHAQDILEKTHNGKLCDLD...</td>\n",
       "    </tr>\n",
       "  </tbody>\n",
       "</table>\n",
       "</div>"
      ],
      "text/plain": [
       "                                               sequence\n",
       "p_id                                                   \n",
       "4bgx  -DQICIGYHANNSTEQVDTIMEKNVTVTHAQDILEKTHNGKLCDLD...\n",
       "4bgy  -DQICIGYHANNSTEQVDTIMEKNVTVTHAQDILEKTHNGKLCDLD...\n",
       "4bgw  -DQICIGYHANNSTEQVDTIMEKNVTVTHAQDILEKTHNGKLCDLD...\n",
       "3znm  -DQICIGYHANNSTEQVDTIMEKNVTVTHAQDILEKTHNGKLCDLD...\n",
       "3znl  -DQICIGYHANNSTEQVDTIMEKNVTVTHAQDILEKTHNGKLCDLD..."
      ]
     },
     "execution_count": 85,
     "metadata": {},
     "output_type": "execute_result"
    }
   ],
   "source": [
    "c_seq.head()"
   ]
  },
  {
   "cell_type": "code",
   "execution_count": 86,
   "metadata": {
    "collapsed": false
   },
   "outputs": [
    {
     "data": {
      "text/plain": [
       "Index([], dtype='object')"
      ]
     },
     "execution_count": 86,
     "metadata": {},
     "output_type": "execute_result"
    }
   ],
   "source": [
    "# sequence for other data missing (but not the other way)\n",
    "c_seq.index.difference(c_met.index)"
   ]
  },
  {
   "cell_type": "code",
   "execution_count": 87,
   "metadata": {
    "collapsed": false
   },
   "outputs": [],
   "source": [
    "c_all = c_met.join(c_seq, how=\"outer\")"
   ]
  },
  {
   "cell_type": "code",
   "execution_count": 88,
   "metadata": {
    "collapsed": false
   },
   "outputs": [
    {
     "data": {
      "text/html": [
       "<div>\n",
       "<table border=\"1\" class=\"dataframe\">\n",
       "  <thead>\n",
       "    <tr style=\"text-align: right;\">\n",
       "      <th></th>\n",
       "      <th>chain</th>\n",
       "      <th>subtype</th>\n",
       "      <th>host</th>\n",
       "      <th>location</th>\n",
       "      <th>year</th>\n",
       "      <th>continent</th>\n",
       "      <th>host_class</th>\n",
       "      <th>H</th>\n",
       "      <th>N</th>\n",
       "      <th>sequence</th>\n",
       "    </tr>\n",
       "  </thead>\n",
       "  <tbody>\n",
       "    <tr>\n",
       "      <th>1eo8</th>\n",
       "      <td>A</td>\n",
       "      <td>H3N2</td>\n",
       "      <td>human</td>\n",
       "      <td>Aichi</td>\n",
       "      <td>1968</td>\n",
       "      <td>Asia</td>\n",
       "      <td>human</td>\n",
       "      <td>3</td>\n",
       "      <td>2</td>\n",
       "      <td>TATLCLGHHAVPNGTLVKTITDDQIEVTNATELVQSSSTGKICNN-...</td>\n",
       "    </tr>\n",
       "    <tr>\n",
       "      <th>1ha0</th>\n",
       "      <td>A</td>\n",
       "      <td>H3N2</td>\n",
       "      <td>human</td>\n",
       "      <td>Aichi</td>\n",
       "      <td>1968</td>\n",
       "      <td>Asia</td>\n",
       "      <td>human</td>\n",
       "      <td>3</td>\n",
       "      <td>2</td>\n",
       "      <td>TATLCLGHHAVPNGTLVKTITDDQIEVTNATELVQSSSTGKICNN-...</td>\n",
       "    </tr>\n",
       "    <tr>\n",
       "      <th>1hgd</th>\n",
       "      <td>A</td>\n",
       "      <td>H3N2</td>\n",
       "      <td>reassortant</td>\n",
       "      <td>NaN</td>\n",
       "      <td>NaN</td>\n",
       "      <td>NaN</td>\n",
       "      <td>reassortant</td>\n",
       "      <td>3</td>\n",
       "      <td>2</td>\n",
       "      <td>TATLCLGHHAVPNGTLVKTITDDQIEVTNATELVQSSSTGKICNN-...</td>\n",
       "    </tr>\n",
       "    <tr>\n",
       "      <th>1hge</th>\n",
       "      <td>A</td>\n",
       "      <td>H3N2</td>\n",
       "      <td>reassortant</td>\n",
       "      <td>NaN</td>\n",
       "      <td>NaN</td>\n",
       "      <td>NaN</td>\n",
       "      <td>reassortant</td>\n",
       "      <td>3</td>\n",
       "      <td>2</td>\n",
       "      <td>TATLCLGHHAVPNGTLVKTITDDQIEVTNATELVQSSSTGKICNN-...</td>\n",
       "    </tr>\n",
       "    <tr>\n",
       "      <th>1hgf</th>\n",
       "      <td>A</td>\n",
       "      <td>H3N2</td>\n",
       "      <td>reassortant</td>\n",
       "      <td>NaN</td>\n",
       "      <td>NaN</td>\n",
       "      <td>NaN</td>\n",
       "      <td>reassortant</td>\n",
       "      <td>3</td>\n",
       "      <td>2</td>\n",
       "      <td>TATLCLGHHAVPNGTLVKTITDDQIEVTNATELVQSSSTGKICNN-...</td>\n",
       "    </tr>\n",
       "  </tbody>\n",
       "</table>\n",
       "</div>"
      ],
      "text/plain": [
       "     chain subtype         host location  year continent   host_class  H  N  \\\n",
       "1eo8     A    H3N2        human    Aichi  1968      Asia        human  3  2   \n",
       "1ha0     A    H3N2        human    Aichi  1968      Asia        human  3  2   \n",
       "1hgd     A    H3N2  reassortant      NaN   NaN       NaN  reassortant  3  2   \n",
       "1hge     A    H3N2  reassortant      NaN   NaN       NaN  reassortant  3  2   \n",
       "1hgf     A    H3N2  reassortant      NaN   NaN       NaN  reassortant  3  2   \n",
       "\n",
       "                                               sequence  \n",
       "1eo8  TATLCLGHHAVPNGTLVKTITDDQIEVTNATELVQSSSTGKICNN-...  \n",
       "1ha0  TATLCLGHHAVPNGTLVKTITDDQIEVTNATELVQSSSTGKICNN-...  \n",
       "1hgd  TATLCLGHHAVPNGTLVKTITDDQIEVTNATELVQSSSTGKICNN-...  \n",
       "1hge  TATLCLGHHAVPNGTLVKTITDDQIEVTNATELVQSSSTGKICNN-...  \n",
       "1hgf  TATLCLGHHAVPNGTLVKTITDDQIEVTNATELVQSSSTGKICNN-...  "
      ]
     },
     "execution_count": 88,
     "metadata": {},
     "output_type": "execute_result"
    }
   ],
   "source": [
    "c_all.head()"
   ]
  },
  {
   "cell_type": "code",
   "execution_count": 106,
   "metadata": {
    "collapsed": true
   },
   "outputs": [],
   "source": [
    "# or actually p_id\n",
    "c_all.index.name = \"p_id\"  # was: id"
   ]
  },
  {
   "cell_type": "code",
   "execution_count": 107,
   "metadata": {
    "collapsed": true
   },
   "outputs": [],
   "source": [
    "c_all.to_csv(\"../site/data/crystals_metadata.csv\", float_format = '%.0f')  # for missing H/N"
   ]
  },
  {
   "cell_type": "markdown",
   "metadata": {},
   "source": [
    "## Model data"
   ]
  },
  {
   "cell_type": "code",
   "execution_count": 108,
   "metadata": {
    "collapsed": false
   },
   "outputs": [
    {
     "data": {
      "text/html": [
       "<div>\n",
       "<table border=\"1\" class=\"dataframe\">\n",
       "  <thead>\n",
       "    <tr style=\"text-align: right;\">\n",
       "      <th></th>\n",
       "      <th>chain</th>\n",
       "      <th>host</th>\n",
       "      <th>location</th>\n",
       "      <th>year</th>\n",
       "      <th>subtype</th>\n",
       "      <th>continent</th>\n",
       "      <th>host_class</th>\n",
       "    </tr>\n",
       "    <tr>\n",
       "      <th>id</th>\n",
       "      <th></th>\n",
       "      <th></th>\n",
       "      <th></th>\n",
       "      <th></th>\n",
       "      <th></th>\n",
       "      <th></th>\n",
       "      <th></th>\n",
       "    </tr>\n",
       "  </thead>\n",
       "  <tbody>\n",
       "    <tr>\n",
       "      <th>AAA43090</th>\n",
       "      <td>A</td>\n",
       "      <td>human</td>\n",
       "      <td>Berlin</td>\n",
       "      <td>1964</td>\n",
       "      <td>H2N2</td>\n",
       "      <td>Europe</td>\n",
       "      <td>human</td>\n",
       "    </tr>\n",
       "    <tr>\n",
       "      <th>AAA43117</th>\n",
       "      <td>A</td>\n",
       "      <td>avian</td>\n",
       "      <td>NaN</td>\n",
       "      <td>1972</td>\n",
       "      <td>H2N9</td>\n",
       "      <td>Europe</td>\n",
       "      <td>avian</td>\n",
       "    </tr>\n",
       "    <tr>\n",
       "      <th>AAA43185</th>\n",
       "      <td>A</td>\n",
       "      <td>human</td>\n",
       "      <td>Japan</td>\n",
       "      <td>1957</td>\n",
       "      <td>H2N2</td>\n",
       "      <td>Asia</td>\n",
       "      <td>human</td>\n",
       "    </tr>\n",
       "    <tr>\n",
       "      <th>AAA43205</th>\n",
       "      <td>A</td>\n",
       "      <td>avian</td>\n",
       "      <td>Ontario</td>\n",
       "      <td>1966</td>\n",
       "      <td>H5N9</td>\n",
       "      <td>North America</td>\n",
       "      <td>avian</td>\n",
       "    </tr>\n",
       "    <tr>\n",
       "      <th>AAA43243</th>\n",
       "      <td>A</td>\n",
       "      <td>avian</td>\n",
       "      <td>Hong Kong</td>\n",
       "      <td>1978</td>\n",
       "      <td>H2N2</td>\n",
       "      <td>Asia</td>\n",
       "      <td>avian</td>\n",
       "    </tr>\n",
       "  </tbody>\n",
       "</table>\n",
       "</div>"
      ],
      "text/plain": [
       "         chain   host   location  year subtype      continent host_class\n",
       "id                                                                      \n",
       "AAA43090     A  human     Berlin  1964    H2N2         Europe      human\n",
       "AAA43117     A  avian        NaN  1972    H2N9         Europe      avian\n",
       "AAA43185     A  human      Japan  1957    H2N2           Asia      human\n",
       "AAA43205     A  avian    Ontario  1966    H5N9  North America      avian\n",
       "AAA43243     A  avian  Hong Kong  1978    H2N2           Asia      avian"
      ]
     },
     "execution_count": 108,
     "metadata": {},
     "output_type": "execute_result"
    }
   ],
   "source": [
    "m_met.head()"
   ]
  },
  {
   "cell_type": "code",
   "execution_count": 109,
   "metadata": {
    "collapsed": false
   },
   "outputs": [
    {
     "data": {
      "text/plain": [
       "H1N1     383\n",
       "H3N2     259\n",
       "H1N2     197\n",
       "H5N1     131\n",
       "H9N2      50\n",
       "H2N2      25\n",
       "H3N8      17\n",
       "H5N2      17\n",
       "H7N3      14\n",
       "H10N7     14\n",
       "H7N7      12\n",
       "H3N1       9\n",
       "H2N3       8\n",
       "H5N5       5\n",
       "H2N7       4\n",
       "H2N5       4\n",
       "H5N3       4\n",
       "H3N6       4\n",
       "H9Nx       3\n",
       "H3N5       3\n",
       "H9N1       3\n",
       "H7N2       3\n",
       "H7N1       3\n",
       "H5N9       2\n",
       "H9N5       2\n",
       "H2N1       2\n",
       "H10N8      2\n",
       "H3N7       1\n",
       "H3Nx       1\n",
       "H9N7       1\n",
       "H5N6       1\n",
       "H7N8       1\n",
       "H7N4       1\n",
       "H3N9       1\n",
       "H2N9       1\n",
       "H9N9       1\n",
       "H7N9       1\n",
       "H5N8       1\n",
       "H5N7       1\n",
       "H10N3      1\n",
       "H9N6       1\n",
       "H3N3       1\n",
       "dtype: int64"
      ]
     },
     "execution_count": 109,
     "metadata": {},
     "output_type": "execute_result"
    }
   ],
   "source": [
    "m_met.subtype.value_counts()"
   ]
  },
  {
   "cell_type": "code",
   "execution_count": 110,
   "metadata": {
    "collapsed": false
   },
   "outputs": [
    {
     "data": {
      "text/plain": [
       "swine             485\n",
       "human             383\n",
       "avian             326\n",
       "emu                 2\n",
       "ferret              1\n",
       "giant anteater      1\n",
       "dtype: int64"
      ]
     },
     "execution_count": 110,
     "metadata": {},
     "output_type": "execute_result"
    }
   ],
   "source": [
    "m_met.host.value_counts()"
   ]
  },
  {
   "cell_type": "code",
   "execution_count": 111,
   "metadata": {
    "collapsed": false
   },
   "outputs": [],
   "source": [
    "m_met.host = m_met.host.fillna(\"human\")"
   ]
  },
  {
   "cell_type": "code",
   "execution_count": 112,
   "metadata": {
    "collapsed": true
   },
   "outputs": [],
   "source": [
    "m_met[\"host_class\"] = m_met.host.map({'human': 'human', 'avian': 'avian', 'reassortant': 'reassortant',\n",
    "                                      'emu': 'mammalian', 'ferret': 'mammalian', 'giant anteater': 'mammalian',\n",
    "                                      'swine': 'mammalian'})"
   ]
  },
  {
   "cell_type": "code",
   "execution_count": 113,
   "metadata": {
    "collapsed": false
   },
   "outputs": [
    {
     "data": {
      "text/html": [
       "<div>\n",
       "<table border=\"1\" class=\"dataframe\">\n",
       "  <thead>\n",
       "    <tr style=\"text-align: right;\">\n",
       "      <th></th>\n",
       "      <th>chain</th>\n",
       "      <th>host</th>\n",
       "      <th>location</th>\n",
       "      <th>year</th>\n",
       "      <th>subtype</th>\n",
       "      <th>continent</th>\n",
       "      <th>host_class</th>\n",
       "    </tr>\n",
       "    <tr>\n",
       "      <th>id</th>\n",
       "      <th></th>\n",
       "      <th></th>\n",
       "      <th></th>\n",
       "      <th></th>\n",
       "      <th></th>\n",
       "      <th></th>\n",
       "      <th></th>\n",
       "    </tr>\n",
       "  </thead>\n",
       "  <tbody>\n",
       "    <tr>\n",
       "      <th>AAA43090</th>\n",
       "      <td>A</td>\n",
       "      <td>human</td>\n",
       "      <td>Berlin</td>\n",
       "      <td>1964</td>\n",
       "      <td>H2N2</td>\n",
       "      <td>Europe</td>\n",
       "      <td>human</td>\n",
       "    </tr>\n",
       "    <tr>\n",
       "      <th>AAA43117</th>\n",
       "      <td>A</td>\n",
       "      <td>avian</td>\n",
       "      <td>NaN</td>\n",
       "      <td>1972</td>\n",
       "      <td>H2N9</td>\n",
       "      <td>Europe</td>\n",
       "      <td>avian</td>\n",
       "    </tr>\n",
       "    <tr>\n",
       "      <th>AAA43185</th>\n",
       "      <td>A</td>\n",
       "      <td>human</td>\n",
       "      <td>Japan</td>\n",
       "      <td>1957</td>\n",
       "      <td>H2N2</td>\n",
       "      <td>Asia</td>\n",
       "      <td>human</td>\n",
       "    </tr>\n",
       "    <tr>\n",
       "      <th>AAA43205</th>\n",
       "      <td>A</td>\n",
       "      <td>avian</td>\n",
       "      <td>Ontario</td>\n",
       "      <td>1966</td>\n",
       "      <td>H5N9</td>\n",
       "      <td>North America</td>\n",
       "      <td>avian</td>\n",
       "    </tr>\n",
       "    <tr>\n",
       "      <th>AAA43243</th>\n",
       "      <td>A</td>\n",
       "      <td>avian</td>\n",
       "      <td>Hong Kong</td>\n",
       "      <td>1978</td>\n",
       "      <td>H2N2</td>\n",
       "      <td>Asia</td>\n",
       "      <td>avian</td>\n",
       "    </tr>\n",
       "    <tr>\n",
       "      <th>AAA43247</th>\n",
       "      <td>A</td>\n",
       "      <td>human</td>\n",
       "      <td>Korea</td>\n",
       "      <td>1968</td>\n",
       "      <td>H2N2</td>\n",
       "      <td>Asia</td>\n",
       "      <td>human</td>\n",
       "    </tr>\n",
       "    <tr>\n",
       "      <th>AAA43248</th>\n",
       "      <td>A</td>\n",
       "      <td>human</td>\n",
       "      <td>Krasnodar</td>\n",
       "      <td>1959</td>\n",
       "      <td>H2N2</td>\n",
       "      <td>Europe</td>\n",
       "      <td>human</td>\n",
       "    </tr>\n",
       "    <tr>\n",
       "      <th>AAA43578</th>\n",
       "      <td>A</td>\n",
       "      <td>avian</td>\n",
       "      <td>Ontario</td>\n",
       "      <td>1976</td>\n",
       "      <td>H2N3</td>\n",
       "      <td>North America</td>\n",
       "      <td>avian</td>\n",
       "    </tr>\n",
       "    <tr>\n",
       "      <th>AAA43678</th>\n",
       "      <td>A</td>\n",
       "      <td>human</td>\n",
       "      <td>Singapore</td>\n",
       "      <td>1957</td>\n",
       "      <td>H2N2</td>\n",
       "      <td>Asia</td>\n",
       "      <td>human</td>\n",
       "    </tr>\n",
       "    <tr>\n",
       "      <th>AAA72339</th>\n",
       "      <td>A</td>\n",
       "      <td>swine</td>\n",
       "      <td>Nebraska</td>\n",
       "      <td>1992</td>\n",
       "      <td>H1N1</td>\n",
       "      <td>North America</td>\n",
       "      <td>mammalian</td>\n",
       "    </tr>\n",
       "    <tr>\n",
       "      <th>AAA92280</th>\n",
       "      <td>A</td>\n",
       "      <td>human</td>\n",
       "      <td>WS</td>\n",
       "      <td>1933</td>\n",
       "      <td>H1N1</td>\n",
       "      <td>Oceania</td>\n",
       "      <td>human</td>\n",
       "    </tr>\n",
       "    <tr>\n",
       "      <th>AAC54377</th>\n",
       "      <td>A</td>\n",
       "      <td>avian</td>\n",
       "      <td>Germany</td>\n",
       "      <td>1979</td>\n",
       "      <td>H7N7</td>\n",
       "      <td>Europe</td>\n",
       "      <td>avian</td>\n",
       "    </tr>\n",
       "    <tr>\n",
       "      <th>AAC54378</th>\n",
       "      <td>A</td>\n",
       "      <td>avian</td>\n",
       "      <td>South Africa</td>\n",
       "      <td>1961</td>\n",
       "      <td>H5N3</td>\n",
       "      <td>Africa</td>\n",
       "      <td>avian</td>\n",
       "    </tr>\n",
       "    <tr>\n",
       "      <th>AAC54380</th>\n",
       "      <td>A</td>\n",
       "      <td>avian</td>\n",
       "      <td>England</td>\n",
       "      <td>1963</td>\n",
       "      <td>H7N3</td>\n",
       "      <td>Europe</td>\n",
       "      <td>avian</td>\n",
       "    </tr>\n",
       "    <tr>\n",
       "      <th>AAC59602</th>\n",
       "      <td>A</td>\n",
       "      <td>human</td>\n",
       "      <td>Vienna</td>\n",
       "      <td>1996</td>\n",
       "      <td>H3N2</td>\n",
       "      <td>Europe</td>\n",
       "      <td>human</td>\n",
       "    </tr>\n",
       "    <tr>\n",
       "      <th>AAD05216</th>\n",
       "      <td>A</td>\n",
       "      <td>swine</td>\n",
       "      <td>England</td>\n",
       "      <td>1994</td>\n",
       "      <td>H1N2</td>\n",
       "      <td>Europe</td>\n",
       "      <td>mammalian</td>\n",
       "    </tr>\n",
       "    <tr>\n",
       "      <th>AAD05217</th>\n",
       "      <td>A</td>\n",
       "      <td>swine</td>\n",
       "      <td>England</td>\n",
       "      <td>1995</td>\n",
       "      <td>H1N2</td>\n",
       "      <td>Europe</td>\n",
       "      <td>mammalian</td>\n",
       "    </tr>\n",
       "    <tr>\n",
       "      <th>AAD05218</th>\n",
       "      <td>A</td>\n",
       "      <td>swine</td>\n",
       "      <td>England</td>\n",
       "      <td>1996</td>\n",
       "      <td>H1N2</td>\n",
       "      <td>Europe</td>\n",
       "      <td>mammalian</td>\n",
       "    </tr>\n",
       "    <tr>\n",
       "      <th>AAD17229</th>\n",
       "      <td>A</td>\n",
       "      <td>human</td>\n",
       "      <td>South Carolina</td>\n",
       "      <td>1918</td>\n",
       "      <td>H1N1</td>\n",
       "      <td>North America</td>\n",
       "      <td>human</td>\n",
       "    </tr>\n",
       "    <tr>\n",
       "      <th>AAD25309</th>\n",
       "      <td>A</td>\n",
       "      <td>swine</td>\n",
       "      <td>Netherlands</td>\n",
       "      <td>1980</td>\n",
       "      <td>H1N1</td>\n",
       "      <td>Europe</td>\n",
       "      <td>mammalian</td>\n",
       "    </tr>\n",
       "  </tbody>\n",
       "</table>\n",
       "</div>"
      ],
      "text/plain": [
       "         chain   host        location  year subtype      continent host_class\n",
       "id                                                                           \n",
       "AAA43090     A  human          Berlin  1964    H2N2         Europe      human\n",
       "AAA43117     A  avian             NaN  1972    H2N9         Europe      avian\n",
       "AAA43185     A  human           Japan  1957    H2N2           Asia      human\n",
       "AAA43205     A  avian         Ontario  1966    H5N9  North America      avian\n",
       "AAA43243     A  avian       Hong Kong  1978    H2N2           Asia      avian\n",
       "AAA43247     A  human           Korea  1968    H2N2           Asia      human\n",
       "AAA43248     A  human       Krasnodar  1959    H2N2         Europe      human\n",
       "AAA43578     A  avian         Ontario  1976    H2N3  North America      avian\n",
       "AAA43678     A  human       Singapore  1957    H2N2           Asia      human\n",
       "AAA72339     A  swine        Nebraska  1992    H1N1  North America  mammalian\n",
       "AAA92280     A  human              WS  1933    H1N1        Oceania      human\n",
       "AAC54377     A  avian         Germany  1979    H7N7         Europe      avian\n",
       "AAC54378     A  avian    South Africa  1961    H5N3         Africa      avian\n",
       "AAC54380     A  avian         England  1963    H7N3         Europe      avian\n",
       "AAC59602     A  human          Vienna  1996    H3N2         Europe      human\n",
       "AAD05216     A  swine         England  1994    H1N2         Europe  mammalian\n",
       "AAD05217     A  swine         England  1995    H1N2         Europe  mammalian\n",
       "AAD05218     A  swine         England  1996    H1N2         Europe  mammalian\n",
       "AAD17229     A  human  South Carolina  1918    H1N1  North America      human\n",
       "AAD25309     A  swine     Netherlands  1980    H1N1         Europe  mammalian"
      ]
     },
     "execution_count": 113,
     "metadata": {},
     "output_type": "execute_result"
    }
   ],
   "source": [
    "m_met.head(20)"
   ]
  },
  {
   "cell_type": "code",
   "execution_count": 114,
   "metadata": {
    "collapsed": false
   },
   "outputs": [
    {
     "data": {
      "text/plain": [
       "313"
      ]
     },
     "execution_count": 114,
     "metadata": {},
     "output_type": "execute_result"
    }
   ],
   "source": [
    "len(m_met.location.value_counts())"
   ]
  },
  {
   "cell_type": "code",
   "execution_count": 115,
   "metadata": {
    "collapsed": false
   },
   "outputs": [
    {
     "data": {
      "text/html": [
       "<div>\n",
       "<table border=\"1\" class=\"dataframe\">\n",
       "  <thead>\n",
       "    <tr style=\"text-align: right;\">\n",
       "      <th></th>\n",
       "      <th>sequence</th>\n",
       "    </tr>\n",
       "    <tr>\n",
       "      <th>p_id</th>\n",
       "      <th></th>\n",
       "    </tr>\n",
       "  </thead>\n",
       "  <tbody>\n",
       "    <tr>\n",
       "      <th>AAA43090</th>\n",
       "      <td>GDQICIGYHAN-STEKVDTILERNVTVTHAKDILEK--THNGKLCK...</td>\n",
       "    </tr>\n",
       "    <tr>\n",
       "      <th>AAA43247</th>\n",
       "      <td>GDQICIGYHAN-STEKVDTILERNVTVTHAKDILEK--THNGKLCK...</td>\n",
       "    </tr>\n",
       "    <tr>\n",
       "      <th>ABO38701</th>\n",
       "      <td>GDQICIGYHAN-STEKVDTILERNVTVTHAKDILEK--THNGKLCK...</td>\n",
       "    </tr>\n",
       "    <tr>\n",
       "      <th>ABO44057</th>\n",
       "      <td>GDQICIGYHAN-STEKVDTILERNVTVTHAKDILEK--THNGKLCK...</td>\n",
       "    </tr>\n",
       "    <tr>\n",
       "      <th>ABO52247</th>\n",
       "      <td>GDQICIGYHAN-STEKVDTILERNVTVTHAKDILEK--THNGKLCK...</td>\n",
       "    </tr>\n",
       "  </tbody>\n",
       "</table>\n",
       "</div>"
      ],
      "text/plain": [
       "                                                   sequence\n",
       "p_id                                                       \n",
       "AAA43090  GDQICIGYHAN-STEKVDTILERNVTVTHAKDILEK--THNGKLCK...\n",
       "AAA43247  GDQICIGYHAN-STEKVDTILERNVTVTHAKDILEK--THNGKLCK...\n",
       "ABO38701  GDQICIGYHAN-STEKVDTILERNVTVTHAKDILEK--THNGKLCK...\n",
       "ABO44057  GDQICIGYHAN-STEKVDTILERNVTVTHAKDILEK--THNGKLCK...\n",
       "ABO52247  GDQICIGYHAN-STEKVDTILERNVTVTHAKDILEK--THNGKLCK..."
      ]
     },
     "execution_count": 115,
     "metadata": {},
     "output_type": "execute_result"
    }
   ],
   "source": [
    "m_seq.head()"
   ]
  },
  {
   "cell_type": "code",
   "execution_count": 116,
   "metadata": {
    "collapsed": false
   },
   "outputs": [
    {
     "data": {
      "text/html": [
       "<div>\n",
       "<table border=\"1\" class=\"dataframe\">\n",
       "  <thead>\n",
       "    <tr style=\"text-align: right;\">\n",
       "      <th></th>\n",
       "      <th>template_id</th>\n",
       "    </tr>\n",
       "    <tr>\n",
       "      <th>p_id</th>\n",
       "      <th></th>\n",
       "    </tr>\n",
       "  </thead>\n",
       "  <tbody>\n",
       "    <tr>\n",
       "      <th>AAA43578</th>\n",
       "      <td>2wr5</td>\n",
       "    </tr>\n",
       "    <tr>\n",
       "      <th>AEK49568</th>\n",
       "      <td>4wsw</td>\n",
       "    </tr>\n",
       "    <tr>\n",
       "      <th>AGL58994</th>\n",
       "      <td>4wsw</td>\n",
       "    </tr>\n",
       "    <tr>\n",
       "      <th>AGL60617</th>\n",
       "      <td>4wsw</td>\n",
       "    </tr>\n",
       "    <tr>\n",
       "      <th>AGL60775</th>\n",
       "      <td>4wsw</td>\n",
       "    </tr>\n",
       "  </tbody>\n",
       "</table>\n",
       "</div>"
      ],
      "text/plain": [
       "         template_id\n",
       "p_id                \n",
       "AAA43578        2wr5\n",
       "AEK49568        4wsw\n",
       "AGL58994        4wsw\n",
       "AGL60617        4wsw\n",
       "AGL60775        4wsw"
      ]
     },
     "execution_count": 116,
     "metadata": {},
     "output_type": "execute_result"
    }
   ],
   "source": [
    "m_template.head()"
   ]
  },
  {
   "cell_type": "code",
   "execution_count": 117,
   "metadata": {
    "collapsed": true
   },
   "outputs": [],
   "source": [
    "m_all = m_met.join(m_template, how=\"outer\")\n",
    "m_all = m_all.join(m_seq, how=\"outer\")\n",
    "m_all.index.name = \"p_id\""
   ]
  },
  {
   "cell_type": "code",
   "execution_count": 118,
   "metadata": {
    "collapsed": false
   },
   "outputs": [
    {
     "data": {
      "text/html": [
       "<div>\n",
       "<table border=\"1\" class=\"dataframe\">\n",
       "  <thead>\n",
       "    <tr style=\"text-align: right;\">\n",
       "      <th></th>\n",
       "      <th>chain</th>\n",
       "      <th>host</th>\n",
       "      <th>location</th>\n",
       "      <th>year</th>\n",
       "      <th>subtype</th>\n",
       "      <th>continent</th>\n",
       "      <th>host_class</th>\n",
       "      <th>template_id</th>\n",
       "      <th>sequence</th>\n",
       "    </tr>\n",
       "    <tr>\n",
       "      <th>p_id</th>\n",
       "      <th></th>\n",
       "      <th></th>\n",
       "      <th></th>\n",
       "      <th></th>\n",
       "      <th></th>\n",
       "      <th></th>\n",
       "      <th></th>\n",
       "      <th></th>\n",
       "      <th></th>\n",
       "    </tr>\n",
       "  </thead>\n",
       "  <tbody>\n",
       "    <tr>\n",
       "      <th>ADZ05627</th>\n",
       "      <td>A</td>\n",
       "      <td>human</td>\n",
       "      <td>LyonCHU</td>\n",
       "      <td>2003</td>\n",
       "      <td>NaN</td>\n",
       "      <td>North America</td>\n",
       "      <td>human</td>\n",
       "      <td>4o5n</td>\n",
       "      <td>TATLCLGH-AVPNGTIVKTITNDQIEVTNATELVQ-S----TGICD...</td>\n",
       "    </tr>\n",
       "    <tr>\n",
       "      <th>ADZ05628</th>\n",
       "      <td>A</td>\n",
       "      <td>human</td>\n",
       "      <td>Reunion</td>\n",
       "      <td>2004</td>\n",
       "      <td>NaN</td>\n",
       "      <td>Africa</td>\n",
       "      <td>human</td>\n",
       "      <td>2yp5</td>\n",
       "      <td>TATLCLGH-AVPNGTIVKTITNDQIEVTNATELVQ-S----TGICD...</td>\n",
       "    </tr>\n",
       "    <tr>\n",
       "      <th>CAC18524</th>\n",
       "      <td>A</td>\n",
       "      <td>human</td>\n",
       "      <td>Fiji</td>\n",
       "      <td>1983</td>\n",
       "      <td>NaN</td>\n",
       "      <td>Oceania</td>\n",
       "      <td>human</td>\n",
       "      <td>4edb</td>\n",
       "      <td>-DTICIGYHAN-STDTVDTVLEKNVTVTHSVN-LED--NHNGKLCK...</td>\n",
       "    </tr>\n",
       "  </tbody>\n",
       "</table>\n",
       "</div>"
      ],
      "text/plain": [
       "         chain   host location  year subtype      continent host_class  \\\n",
       "p_id                                                                     \n",
       "ADZ05627     A  human  LyonCHU  2003     NaN  North America      human   \n",
       "ADZ05628     A  human  Reunion  2004     NaN         Africa      human   \n",
       "CAC18524     A  human     Fiji  1983     NaN        Oceania      human   \n",
       "\n",
       "         template_id                                           sequence  \n",
       "p_id                                                                     \n",
       "ADZ05627        4o5n  TATLCLGH-AVPNGTIVKTITNDQIEVTNATELVQ-S----TGICD...  \n",
       "ADZ05628        2yp5  TATLCLGH-AVPNGTIVKTITNDQIEVTNATELVQ-S----TGICD...  \n",
       "CAC18524        4edb  -DTICIGYHAN-STDTVDTVLEKNVTVTHSVN-LED--NHNGKLCK...  "
      ]
     },
     "execution_count": 118,
     "metadata": {},
     "output_type": "execute_result"
    }
   ],
   "source": [
    "m_all[pd.isnull(m_all.subtype)]"
   ]
  },
  {
   "cell_type": "code",
   "execution_count": 119,
   "metadata": {
    "collapsed": false
   },
   "outputs": [],
   "source": [
    "m_all = m_all[pd.notnull(m_all.subtype)].copy()"
   ]
  },
  {
   "cell_type": "code",
   "execution_count": 120,
   "metadata": {
    "collapsed": false
   },
   "outputs": [],
   "source": [
    "m_all[\"H\"] = m_all.subtype.apply(lambda x: int(x.split(\"N\")[0][1:]))\n",
    "m_all[\"N\"] = m_all.subtype.apply(lambda x: int(x.split(\"N\")[1]) if x[-1] != \"x\" else \"\")"
   ]
  },
  {
   "cell_type": "code",
   "execution_count": 121,
   "metadata": {
    "collapsed": false
   },
   "outputs": [
    {
     "data": {
      "text/html": [
       "<div>\n",
       "<table border=\"1\" class=\"dataframe\">\n",
       "  <thead>\n",
       "    <tr style=\"text-align: right;\">\n",
       "      <th></th>\n",
       "      <th>chain</th>\n",
       "      <th>host</th>\n",
       "      <th>location</th>\n",
       "      <th>year</th>\n",
       "      <th>subtype</th>\n",
       "      <th>continent</th>\n",
       "      <th>host_class</th>\n",
       "      <th>template_id</th>\n",
       "      <th>sequence</th>\n",
       "      <th>H</th>\n",
       "      <th>N</th>\n",
       "    </tr>\n",
       "    <tr>\n",
       "      <th>p_id</th>\n",
       "      <th></th>\n",
       "      <th></th>\n",
       "      <th></th>\n",
       "      <th></th>\n",
       "      <th></th>\n",
       "      <th></th>\n",
       "      <th></th>\n",
       "      <th></th>\n",
       "      <th></th>\n",
       "      <th></th>\n",
       "      <th></th>\n",
       "    </tr>\n",
       "  </thead>\n",
       "  <tbody>\n",
       "    <tr>\n",
       "      <th>AAA43090</th>\n",
       "      <td>A</td>\n",
       "      <td>human</td>\n",
       "      <td>Berlin</td>\n",
       "      <td>1964</td>\n",
       "      <td>H2N2</td>\n",
       "      <td>Europe</td>\n",
       "      <td>human</td>\n",
       "      <td>3ku6</td>\n",
       "      <td>GDQICIGYHAN-STEKVDTILERNVTVTHAKDILEK--THNGKLCK...</td>\n",
       "      <td>2</td>\n",
       "      <td>2</td>\n",
       "    </tr>\n",
       "    <tr>\n",
       "      <th>AAA43117</th>\n",
       "      <td>A</td>\n",
       "      <td>avian</td>\n",
       "      <td>NaN</td>\n",
       "      <td>1972</td>\n",
       "      <td>H2N9</td>\n",
       "      <td>Europe</td>\n",
       "      <td>avian</td>\n",
       "      <td>3ku6</td>\n",
       "      <td>GDQICIGYHSN-STEKVDTILERNVTVTHAKDILEK--THNGKLCK...</td>\n",
       "      <td>2</td>\n",
       "      <td>9</td>\n",
       "    </tr>\n",
       "    <tr>\n",
       "      <th>AAA43185</th>\n",
       "      <td>A</td>\n",
       "      <td>human</td>\n",
       "      <td>Japan</td>\n",
       "      <td>1957</td>\n",
       "      <td>H2N2</td>\n",
       "      <td>Asia</td>\n",
       "      <td>human</td>\n",
       "      <td>3ku6</td>\n",
       "      <td>GDQICIGYHAN-STEKVDTNLERNVTVTHAKDILEK--THNGKLCK...</td>\n",
       "      <td>2</td>\n",
       "      <td>2</td>\n",
       "    </tr>\n",
       "    <tr>\n",
       "      <th>AAA43205</th>\n",
       "      <td>A</td>\n",
       "      <td>avian</td>\n",
       "      <td>Ontario</td>\n",
       "      <td>1966</td>\n",
       "      <td>H5N9</td>\n",
       "      <td>North America</td>\n",
       "      <td>avian</td>\n",
       "      <td>1jso</td>\n",
       "      <td>-DQICIGYHAN-STKQVDTIMEKNVTVTYAQDILEK--EHNGKLCS...</td>\n",
       "      <td>5</td>\n",
       "      <td>9</td>\n",
       "    </tr>\n",
       "    <tr>\n",
       "      <th>AAA43243</th>\n",
       "      <td>A</td>\n",
       "      <td>avian</td>\n",
       "      <td>Hong Kong</td>\n",
       "      <td>1978</td>\n",
       "      <td>H2N2</td>\n",
       "      <td>Asia</td>\n",
       "      <td>avian</td>\n",
       "      <td>3ku6</td>\n",
       "      <td>GDQICIGYHAN-STETVDTILERNVTVTHAKNILEK--THNGKLCK...</td>\n",
       "      <td>2</td>\n",
       "      <td>2</td>\n",
       "    </tr>\n",
       "  </tbody>\n",
       "</table>\n",
       "</div>"
      ],
      "text/plain": [
       "         chain   host   location  year subtype      continent host_class  \\\n",
       "p_id                                                                       \n",
       "AAA43090     A  human     Berlin  1964    H2N2         Europe      human   \n",
       "AAA43117     A  avian        NaN  1972    H2N9         Europe      avian   \n",
       "AAA43185     A  human      Japan  1957    H2N2           Asia      human   \n",
       "AAA43205     A  avian    Ontario  1966    H5N9  North America      avian   \n",
       "AAA43243     A  avian  Hong Kong  1978    H2N2           Asia      avian   \n",
       "\n",
       "         template_id                                           sequence  H  N  \n",
       "p_id                                                                           \n",
       "AAA43090        3ku6  GDQICIGYHAN-STEKVDTILERNVTVTHAKDILEK--THNGKLCK...  2  2  \n",
       "AAA43117        3ku6  GDQICIGYHSN-STEKVDTILERNVTVTHAKDILEK--THNGKLCK...  2  9  \n",
       "AAA43185        3ku6  GDQICIGYHAN-STEKVDTNLERNVTVTHAKDILEK--THNGKLCK...  2  2  \n",
       "AAA43205        1jso  -DQICIGYHAN-STKQVDTIMEKNVTVTYAQDILEK--EHNGKLCS...  5  9  \n",
       "AAA43243        3ku6  GDQICIGYHAN-STETVDTILERNVTVTHAKNILEK--THNGKLCK...  2  2  "
      ]
     },
     "execution_count": 121,
     "metadata": {},
     "output_type": "execute_result"
    }
   ],
   "source": [
    "m_all.head()"
   ]
  },
  {
   "cell_type": "code",
   "execution_count": 122,
   "metadata": {
    "collapsed": true
   },
   "outputs": [],
   "source": [
    "# WARNING: as of now without serotype or subtype\n",
    "m_all.to_csv(\"../site/data/models_metadata.csv\", float_format = '%.0f')"
   ]
  },
  {
   "cell_type": "code",
   "execution_count": 124,
   "metadata": {
    "collapsed": false
   },
   "outputs": [
    {
     "data": {
      "text/plain": [
       "42"
      ]
     },
     "execution_count": 124,
     "metadata": {},
     "output_type": "execute_result"
    }
   ],
   "source": [
    "len(m_all.subtype.unique())"
   ]
  },
  {
   "cell_type": "code",
   "execution_count": null,
   "metadata": {
    "collapsed": true
   },
   "outputs": [],
   "source": []
  }
 ],
 "metadata": {
  "kernelspec": {
   "display_name": "Python 3",
   "language": "python",
   "name": "python3"
  },
  "language_info": {
   "codemirror_mode": {
    "name": "ipython",
    "version": 3
   },
   "file_extension": ".py",
   "mimetype": "text/x-python",
   "name": "python",
   "nbconvert_exporter": "python",
   "pygments_lexer": "ipython3",
   "version": "3.4.3"
  }
 },
 "nbformat": 4,
 "nbformat_minor": 0
}
