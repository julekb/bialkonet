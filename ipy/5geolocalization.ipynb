{
 "cells": [
  {
   "cell_type": "code",
   "execution_count": 10,
   "metadata": {
    "collapsed": true
   },
   "outputs": [],
   "source": [
    "import requests\n",
    "import pandas as pd\n",
    "import json"
   ]
  },
  {
   "cell_type": "code",
   "execution_count": 22,
   "metadata": {
    "collapsed": true
   },
   "outputs": [],
   "source": [
    "import sys"
   ]
  },
  {
   "cell_type": "code",
   "execution_count": 23,
   "metadata": {
    "collapsed": false
   },
   "outputs": [
    {
     "data": {
      "text/plain": [
       "'/usr/local/opt/python3/bin/python3.4'"
      ]
     },
     "execution_count": 23,
     "metadata": {},
     "output_type": "execute_result"
    }
   ],
   "source": [
    "sys.executable"
   ]
  },
  {
   "cell_type": "code",
   "execution_count": 12,
   "metadata": {
    "collapsed": false
   },
   "outputs": [],
   "source": [
    "code2cont = json.load(open(\"./code2cont.json\"))"
   ]
  },
  {
   "cell_type": "code",
   "execution_count": 3,
   "metadata": {
    "collapsed": true
   },
   "outputs": [],
   "source": [
    "c_met = pd.read_csv(\"../HA_data/metadata/crystals_metadata.csv\", index_col=0)"
   ]
  },
  {
   "cell_type": "code",
   "execution_count": 5,
   "metadata": {
    "collapsed": false
   },
   "outputs": [
    {
     "data": {
      "text/html": [
       "<div>\n",
       "<table border=\"1\" class=\"dataframe\">\n",
       "  <thead>\n",
       "    <tr style=\"text-align: right;\">\n",
       "      <th></th>\n",
       "      <th>chain</th>\n",
       "      <th>subtype</th>\n",
       "      <th>host</th>\n",
       "      <th>location</th>\n",
       "      <th>year</th>\n",
       "    </tr>\n",
       "    <tr>\n",
       "      <th>id</th>\n",
       "      <th></th>\n",
       "      <th></th>\n",
       "      <th></th>\n",
       "      <th></th>\n",
       "      <th></th>\n",
       "    </tr>\n",
       "  </thead>\n",
       "  <tbody>\n",
       "    <tr>\n",
       "      <th>1ha0</th>\n",
       "      <td>A</td>\n",
       "      <td>H3N2</td>\n",
       "      <td>NaN</td>\n",
       "      <td>Aichi</td>\n",
       "      <td>1968</td>\n",
       "    </tr>\n",
       "    <tr>\n",
       "      <th>4eef</th>\n",
       "      <td>A</td>\n",
       "      <td>H1N1</td>\n",
       "      <td>NaN</td>\n",
       "      <td>BrevigMission</td>\n",
       "      <td>1918</td>\n",
       "    </tr>\n",
       "    <tr>\n",
       "      <th>4cqp</th>\n",
       "      <td>A</td>\n",
       "      <td>H5N1</td>\n",
       "      <td>NaN</td>\n",
       "      <td>Vietnam</td>\n",
       "      <td>2004</td>\n",
       "    </tr>\n",
       "    <tr>\n",
       "      <th>4cqq</th>\n",
       "      <td>A</td>\n",
       "      <td>H5N1</td>\n",
       "      <td>NaN</td>\n",
       "      <td>Vietnam</td>\n",
       "      <td>2004</td>\n",
       "    </tr>\n",
       "    <tr>\n",
       "      <th>4cqr</th>\n",
       "      <td>A</td>\n",
       "      <td>H5N1</td>\n",
       "      <td>NaN</td>\n",
       "      <td>Vietnam</td>\n",
       "      <td>2004</td>\n",
       "    </tr>\n",
       "  </tbody>\n",
       "</table>\n",
       "</div>"
      ],
      "text/plain": [
       "     chain subtype host       location  year\n",
       "id                                          \n",
       "1ha0     A    H3N2  NaN          Aichi  1968\n",
       "4eef     A    H1N1  NaN  BrevigMission  1918\n",
       "4cqp     A    H5N1  NaN        Vietnam  2004\n",
       "4cqq     A    H5N1  NaN        Vietnam  2004\n",
       "4cqr     A    H5N1  NaN        Vietnam  2004"
      ]
     },
     "execution_count": 5,
     "metadata": {},
     "output_type": "execute_result"
    }
   ],
   "source": [
    "c_met.head()"
   ]
  },
  {
   "cell_type": "code",
   "execution_count": 6,
   "metadata": {
    "collapsed": false
   },
   "outputs": [
    {
     "data": {
      "text/plain": [
       "array(['Aichi', 'BrevigMission', 'Vietnam', 'Turkey', 'Korea', 'Japan',\n",
       "       'Sweden', 'Indiana', 'HongKong', 'Mexico', 'SolomonIslands', 'JX',\n",
       "       'California', 'Perth', 'Hangzhou', 'Guangdong', 'VietNam',\n",
       "       'Singapore', 'Shanghai', 'PuertoRico', 'Massachusetts', 'Astrakhan',\n",
       "       'Guatemala', 'Ukraine', 'Maryland', 'Thailand', 'St-Hyacinthe',\n",
       "       'Colorado', 'Newmarket', 'Potsdam', 'Alberta', 'NewJersey', 'Italy',\n",
       "       'Netherlands', 'Victoria', 'Richmond', 'Indonesia', 'Guiyang',\n",
       "       'Laos', 'Guangxi', 'Malaysia', 'Nagasaki', 'Tottori', 'Anhui', nan,\n",
       "       'Hubei', 'Darwin', 'Xinjiang', 'Egypt/Puerto_Rico', 'Finland',\n",
       "       'Ontario', 'finland', 'Asia'], dtype=object)"
      ]
     },
     "execution_count": 6,
     "metadata": {},
     "output_type": "execute_result"
    }
   ],
   "source": [
    "c_met.location.unique()"
   ]
  },
  {
   "cell_type": "code",
   "execution_count": 8,
   "metadata": {
    "collapsed": true
   },
   "outputs": [],
   "source": [
    "def geolocalize(address):\n",
    "    try:\n",
    "        r = requests.get(\"https://maps.googleapis.com/maps/api/geocode/json\",\n",
    "                         params={\"address\": address})\n",
    "        return r.json()['results']\n",
    "    except:\n",
    "        return {}"
   ]
  },
  {
   "cell_type": "code",
   "execution_count": null,
   "metadata": {
    "collapsed": true
   },
   "outputs": [],
   "source": [
    "def country_code(google_res):\n",
    "    "
   ]
  },
  {
   "cell_type": "code",
   "execution_count": 9,
   "metadata": {
    "collapsed": false
   },
   "outputs": [
    {
     "data": {
      "text/plain": [
       "[{'address_components': [{'long_name': 'Aichi Prefecture',\n",
       "    'short_name': 'Aichi Prefecture',\n",
       "    'types': ['administrative_area_level_1', 'political']},\n",
       "   {'long_name': 'Japan',\n",
       "    'short_name': 'JP',\n",
       "    'types': ['country', 'political']}],\n",
       "  'formatted_address': 'Aichi Prefecture, Japan',\n",
       "  'geometry': {'bounds': {'northeast': {'lat': 35.424822, 'lng': 137.8378675},\n",
       "    'southwest': {'lat': 34.5780876, 'lng': 136.6710227}},\n",
       "   'location': {'lat': 35.1801883, 'lng': 136.9065647},\n",
       "   'location_type': 'APPROXIMATE',\n",
       "   'viewport': {'northeast': {'lat': 35.424822, 'lng': 137.8378675},\n",
       "    'southwest': {'lat': 34.5780876, 'lng': 136.6710227}}},\n",
       "  'place_id': 'ChIJ5zKTSdW6BGARp0EVGF2mX-s',\n",
       "  'types': ['administrative_area_level_1', 'political']}]"
      ]
     },
     "execution_count": 9,
     "metadata": {},
     "output_type": "execute_result"
    }
   ],
   "source": [
    "geolocalize('Aichi')"
   ]
  },
  {
   "cell_type": "code",
   "execution_count": 18,
   "metadata": {
    "collapsed": false
   },
   "outputs": [
    {
     "data": {
      "text/plain": [
       "'JP'"
      ]
     },
     "execution_count": 18,
     "metadata": {},
     "output_type": "execute_result"
    }
   ],
   "source": [
    "geolocalize('Aichi')[0]['address_components'][-1]['short_name']"
   ]
  },
  {
   "cell_type": "code",
   "execution_count": 13,
   "metadata": {
    "collapsed": true
   },
   "outputs": [],
   "source": [
    "localized = {}\n",
    "for location in c_met.location.unique():\n",
    "    localized[location] = geolocalize(location)"
   ]
  },
  {
   "cell_type": "code",
   "execution_count": 20,
   "metadata": {
    "collapsed": false
   },
   "outputs": [],
   "source": [
    "continents = {k: len(v) for k, v in localized.items()}"
   ]
  },
  {
   "cell_type": "code",
   "execution_count": 21,
   "metadata": {
    "collapsed": false
   },
   "outputs": [
    {
     "data": {
      "text/plain": [
       "{'Turkey': 1,\n",
       " nan: 1,\n",
       " 'Maryland': 1,\n",
       " 'VietNam': 1,\n",
       " 'Perth': 3,\n",
       " 'Guatemala': 1,\n",
       " 'Netherlands': 1,\n",
       " 'Victoria': 5,\n",
       " 'PuertoRico': 1,\n",
       " 'Astrakhan': 1,\n",
       " 'BrevigMission': 1,\n",
       " 'Massachusetts': 1,\n",
       " 'Nagasaki': 0,\n",
       " 'SolomonIslands': 1,\n",
       " 'St-Hyacinthe': 1,\n",
       " 'finland': 1,\n",
       " 'Vietnam': 1,\n",
       " 'Potsdam': 2,\n",
       " 'Ontario': 2,\n",
       " 'Aichi': 1,\n",
       " 'Laos': 0,\n",
       " 'NewJersey': 1,\n",
       " 'Shanghai': 1,\n",
       " 'Newmarket': 1,\n",
       " 'JX': 1,\n",
       " 'Sweden': 1,\n",
       " 'Guangdong': 1,\n",
       " 'Xinjiang': 1,\n",
       " 'Italy': 1,\n",
       " 'Guangxi': 0,\n",
       " 'Hubei': 1,\n",
       " 'Alberta': 1,\n",
       " 'Richmond': 6,\n",
       " 'California': 1,\n",
       " 'Malaysia': 0,\n",
       " 'Japan': 1,\n",
       " 'Asia': 1,\n",
       " 'Finland': 1,\n",
       " 'Singapore': 1,\n",
       " 'Mexico': 2,\n",
       " 'HongKong': 1,\n",
       " 'Thailand': 1,\n",
       " 'Hangzhou': 1,\n",
       " 'Korea': 1,\n",
       " 'Darwin': 1,\n",
       " 'Anhui': 1,\n",
       " 'Indonesia': 0,\n",
       " 'Guiyang': 0,\n",
       " 'Colorado': 1,\n",
       " 'Tottori': 0,\n",
       " 'Egypt/Puerto_Rico': 0,\n",
       " 'Ukraine': 1,\n",
       " 'Indiana': 2}"
      ]
     },
     "execution_count": 21,
     "metadata": {},
     "output_type": "execute_result"
    }
   ],
   "source": [
    "continents"
   ]
  },
  {
   "cell_type": "code",
   "execution_count": null,
   "metadata": {
    "collapsed": true
   },
   "outputs": [],
   "source": []
  }
 ],
 "metadata": {
  "kernelspec": {
   "display_name": "Python 3",
   "language": "python",
   "name": "python3"
  },
  "language_info": {
   "codemirror_mode": {
    "name": "ipython",
    "version": 3
   },
   "file_extension": ".py",
   "mimetype": "text/x-python",
   "name": "python",
   "nbconvert_exporter": "python",
   "pygments_lexer": "ipython3",
   "version": "3.4.3"
  }
 },
 "nbformat": 4,
 "nbformat_minor": 0
}
